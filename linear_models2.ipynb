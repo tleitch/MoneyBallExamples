{
  "nbformat": 4,
  "nbformat_minor": 5,
  "metadata": {
    "colab": {
      "name": "Copy of linear-models.ipynb",
      "provenance": [],
      "collapsed_sections": [],
      "include_colab_link": true
    },
    "kernelspec": {
      "display_name": "Python 3",
      "language": "python",
      "name": "python3"
    },
    "language_info": {
      "codemirror_mode": {
        "name": "ipython",
        "version": 3
      },
      "file_extension": ".py",
      "mimetype": "text/x-python",
      "name": "python",
      "nbconvert_exporter": "python",
      "pygments_lexer": "ipython3",
      "version": "3.7.3"
    }
  },
  "cells": [
    {
      "cell_type": "markdown",
      "metadata": {
        "id": "view-in-github",
        "colab_type": "text"
      },
      "source": [
        "<a href=\"https://colab.research.google.com/github/tleitch/BDML/blob/main/linear_models2.ipynb\" target=\"_parent\"><img src=\"https://colab.research.google.com/assets/colab-badge.svg\" alt=\"Open In Colab\"/></a>"
      ]
    },
    {
      "cell_type": "code",
      "metadata": {
        "colab": {
          "base_uri": "https://localhost:8080/"
        },
        "id": "DXUuUxL9sJdo",
        "outputId": "6bb90db3-4c9a-417a-f9ec-79a235875244"
      },
      "source": [
        "import pandas as pd\n",
        "import matplotlib.pyplot as plt\n",
        "from sklearn.linear_model import LinearRegression\n",
        "from sklearn.linear_model import BayesianRidge\n",
        "from sklearn.tree import DecisionTreeRegressor\n",
        "import copy \n",
        "\n",
        "pd.options.mode.chained_assignment = None  # default='warn'\n",
        "!pip install mip\n",
        "from mip import Model, xsum, maximize, BINARY"
      ],
      "id": "DXUuUxL9sJdo",
      "execution_count": null,
      "outputs": [
        {
          "output_type": "stream",
          "text": [
            "Requirement already satisfied: mip in /home/harshvardhan/anaconda3/lib/python3.7/site-packages (1.13.0)\r\n",
            "Requirement already satisfied: cffi in /home/harshvardhan/anaconda3/lib/python3.7/site-packages (from mip) (1.12.3)\r\n",
            "Requirement already satisfied: pycparser in /home/harshvardhan/anaconda3/lib/python3.7/site-packages (from cffi->mip) (2.19)\r\n"
          ],
          "name": "stdout"
        }
      ]
    },
    {
      "cell_type": "markdown",
      "metadata": {
        "id": "intermediate-credit"
      },
      "source": [
        "Regardless, it seems that if we stratify by HR, we have bivariate distributions for runs versus BB. Similarly, if we stratify by BB, we have approximate bivariate normal distributions for HR versus runs. \n",
        "\n",
        "###  Multivariate regression\n",
        "\n",
        "It is somewhat complex to be computing regression lines for each strata. We are essentially fitting models like this:\n",
        "\n",
        "$$\n",
        "\\mbox{E}[R \\mid BB = x_1, \\, HR = x_2] = \\beta_0 + \\beta_1(x_2) x_1 + \\beta_2(x_1) x_2\n",
        "$$\n",
        "\n",
        "with the slopes for $x_1$ changing for different values of $x_2$ and vice versa. But is there an easier approach?\n",
        "\n",
        "If we take random variability into account, the slopes in the strata don't appear to change much. If these slopes are in fact the same, this implies that $\\beta_1(x_2)$ and $\\beta_2(x_1)$ are constants. This in turn implies that the expectation of runs conditioned on HR and BB can be written like this:\n",
        "\n",
        "$$\n",
        "\\mbox{E}[R \\mid BB = x_1, \\, HR = x_2] = \\beta_0 + \\beta_1 x_1 + \\beta_2 x_2\n",
        "$$\n",
        "\n",
        "This model suggests that if the number of HR is fixed at $x_2$, we observe a linear relationship between runs and BB with an intercept of $\\beta_0 + \\beta_2 x_2$. Our exploratory data analysis suggested this. The model also suggests that as the number of HR grows, the intercept growth is linear as well and determined by $\\beta_1 x_1$. \n",
        "\n",
        "In this analysis, referred to as _multivariate regression_, you will often hear people say that the BB slope $\\beta_1$ is _adjusted_ for the HR effect. If the model is correct then confounding has been accounted for. But how do we estimate $\\beta_1$ and $\\beta_2$ from the data? For this, we learn about linear models and least squares estimates.\n",
        "\n",
        "## Least squares estimates {#lse}\n",
        "\n",
        "We have described how if data is bivariate normal then the conditional expectations follow the regression line. The fact that the conditional expectation is a line is not an extra assumption but rather a derived result. However, in practice it is common to explicitly write down a model that describes the relationship between two or more variables using a _linear model_. \n",
        "\n",
        "We note that \"linear\" here does not refer to lines exclusively, but rather to the fact that the conditional expectation is a linear combination of known quantities. In mathematics, when we multiply each variable by a constant and then add them together, we say we formed a linear combination of the variables. For example, $3x - 4y + 5z$ is a linear combination of $x$, $y$, and $z$. We can also add a constant so $2 + 3x - 4y + 5z$ is also linear combination of $x$, $y$, and $z$. \n",
        "\n",
        "So $\\beta_0 + \\beta_1 x_1 + \\beta_2 x_2$, is a linear combination of $x_1$ and $x_2$. \n",
        "The simplest linear model is a constant $\\beta_0$; the second simplest is a line $\\beta_0 + \\beta_1 x$. If we were to specify a linear model for Galton's data, we would denote the $N$ observed father heights with $x_1, \\dots, x_n$, then we model the $N$ son heights we are trying to predict with: \n",
        "\n",
        "$$ \n",
        "Y_i = \\beta_0 + \\beta_1 x_i + \\varepsilon_i, \\, i=1,\\dots,N. \n",
        "$$\n",
        "\n",
        "Here $x_i$ is the father's height, which is fixed (not random) due to the conditioning, and $Y_i$ is the random son's height that we want to predict. We further assume that $\\varepsilon_i$ are independent from each other, have expected value 0 and the standard deviation, call it $\\sigma$, does not depend on $i$. \n",
        "\n",
        "In the above model, we know the $x_i$, but to have a useful model for prediction, we need $\\beta_0$ and $\\beta_1$. We estimate these from the data. Once we do this, we can predict son's heights for any father's height $x$. We show how to do this in the next section.\n",
        "\n",
        "Note that if we further assume that the $\\varepsilon$ is normally distributed, then this model is exactly the same one we derived earlier by assuming bivariate normal data. A somewhat nuanced difference is that in the first approach we assumed the data was bivariate normal and that the linear model was derived, not assumed. In practice, linear models are just assumed without necessarily assuming normality: the distribution of the $\\varepsilon$s is not specified.  Nevertheless, if your data is bivariate normal, the above linear model holds. If your data is not bivariate normal, then you will need to have other ways of justifying the model.\n",
        "\n",
        "### Interpreting linear models\n",
        "\n",
        "One reason linear models are popular is that they are interpretable. In the case of Galton's data, we can interpret the data like this: due to inherited genes, the son's height prediction grows by $\\beta_1$ for each inch we increase the father's height $x$. Because not all sons with fathers of height $x$ are of equal height, we need the term $\\varepsilon$, which explains the remaining variability. This remaining variability includes the mother's genetic effect, environmental factors, and other biological randomness. \n",
        "\n",
        "Given how we wrote the model above, the intercept $\\beta_0$ is not very interpretable as it is the predicted height of a son with a father with no height. Due to regression to the mean, the prediction will usually be a bit larger than 0. To make the slope parameter more interpretable, we can rewrite the model slightly as:\n",
        "\n",
        "$$ \n",
        "Y_i = \\beta_0 + \\beta_1 (x_i - \\bar{x}) + \\varepsilon_i, \\, i=1,\\dots,N \n",
        "$$\n",
        "\n",
        "\n",
        "with $\\bar{x} = 1/N \\sum_{i=1}^N x_i$ the average of the $x$. In this case $\\beta_0$ represents the height when $x_i = \\bar{x}$, which is the height of the son of an average father.\n",
        "\n",
        "### Least Squares Estimates (LSE)\n",
        "\n",
        "For linear models to be useful, we have to estimate the unknown $\\beta$s. The standard approach in science is to find the values that minimize the distance of the fitted model to the data. The following is called the least squares (LS) equation and we will see it often in this chapter. For Galton's data, we would write:\n",
        "\n",
        "$$ \n",
        "RSS = \\sum_{i=1}^n \\left\\{  y_i - \\left(\\beta_0 + \\beta_1 x_i \\right)\\right\\}^2 \n",
        "$$\n",
        "\n",
        "This quantity is called the residual sum of squares (RSS). Once we find the values that minimize the RSS, we will call the values the least squares estimates (LSE) and denote them with $\\hat{\\beta}_0$ and $\\hat{\\beta}_1$. Let's demonstrate this with the previously defined dataset:"
      ],
      "id": "intermediate-credit"
    },
    {
      "cell_type": "markdown",
      "metadata": {
        "id": "accurate-desperate"
      },
      "source": [
        "\n",
        "\n",
        "## Case study: Moneyball (continued)\n",
        "\n",
        "In trying to answer how well BBs predict runs, data exploration led us to a model:\n",
        "\n",
        "$$\n",
        "\\mbox{E}[R \\mid BB = x_1, HR = x_2] = \\beta_0 + \\beta_1 x_1 + \\beta_2 x_2\n",
        "$$\n",
        "\n",
        "Here, the data is approximately normal and conditional distributions were also normal. Thus, we are justified in using a linear model:\n",
        "\n",
        "$$\n",
        "Y_i = \\beta_0 + \\beta_1 x_{i,1} + \\beta_2 x_{i,2} + \\varepsilon_i\n",
        "$$\n",
        "\n",
        "with $Y_i$ runs per game for team $i$, $x_{i,1}$ walks per game, and $x_{i,2}$. To use `lm` here, we need to let the function know we have two predictor variables. So we use the `+` symbol as follows:"
      ],
      "id": "accurate-desperate"
    },
    {
      "cell_type": "code",
      "metadata": {
        "colab": {
          "base_uri": "https://localhost:8080/",
          "height": 400
        },
        "id": "boxed-marriage",
        "outputId": "3702cf29-ee39-4b01-c9fd-2c3841dade58"
      },
      "source": [
        "import pandas as pd\n",
        "teams = pd.read_csv(\"https://raw.githubusercontent.com/tleitch/BDML/main/data/teams.csv\")\n",
        "teams = teams[(teams.yearID >=1961) & (teams.yearID <= 2001)]\n",
        "\n",
        "teams[\"BB\"] = teams[\"BB\"]/teams[\"G\"]\n",
        "teams[\"HR\"] = teams[\"HR\"]/teams[\"G\"]\n",
        "teams[\"R\"] = teams[\"R\"]/teams[\"G\"]\n",
        "team_features_1 = teams[[\"BB\",\"HR\",\"R\"]]\n",
        "team_runs = teams[\"R\"]\n",
        "#reg = LinearRegression().fit(team_features_1, team_runs)\n",
        "\n",
        "### We can get a good summary by using statmodels. Although we do have a choice for using sklearn.\n",
        "from statsmodels.api import OLS\n",
        "OLS(team_runs,team_features_1).fit().summary()"
      ],
      "id": "boxed-marriage",
      "execution_count": null,
      "outputs": [
        {
          "output_type": "execute_result",
          "data": {
            "text/html": [
              "<table class=\"simpletable\">\n",
              "<caption>OLS Regression Results</caption>\n",
              "<tr>\n",
              "  <th>Dep. Variable:</th>            <td>R</td>        <th>  R-squared (uncentered):</th>       <td>   1.000</td> \n",
              "</tr>\n",
              "<tr>\n",
              "  <th>Model:</th>                   <td>OLS</td>       <th>  Adj. R-squared (uncentered):</th>  <td>   1.000</td> \n",
              "</tr>\n",
              "<tr>\n",
              "  <th>Method:</th>             <td>Least Squares</td>  <th>  F-statistic:       </th>           <td>4.147e+32</td>\n",
              "</tr>\n",
              "<tr>\n",
              "  <th>Date:</th>             <td>Mon, 29 Mar 2021</td> <th>  Prob (F-statistic):</th>            <td>  0.00</td>  \n",
              "</tr>\n",
              "<tr>\n",
              "  <th>Time:</th>                 <td>12:09:41</td>     <th>  Log-Likelihood:    </th>           <td>  32562.</td> \n",
              "</tr>\n",
              "<tr>\n",
              "  <th>No. Observations:</th>      <td>  1026</td>      <th>  AIC:               </th>          <td>-6.512e+04</td>\n",
              "</tr>\n",
              "<tr>\n",
              "  <th>Df Residuals:</th>          <td>  1023</td>      <th>  BIC:               </th>          <td>-6.510e+04</td>\n",
              "</tr>\n",
              "<tr>\n",
              "  <th>Df Model:</th>              <td>     3</td>      <th>                     </th>               <td> </td>    \n",
              "</tr>\n",
              "<tr>\n",
              "  <th>Covariance Type:</th>      <td>nonrobust</td>    <th>                     </th>               <td> </td>    \n",
              "</tr>\n",
              "</table>\n",
              "<table class=\"simpletable\">\n",
              "<tr>\n",
              "   <td></td>     <th>coef</th>     <th>std err</th>      <th>t</th>      <th>P>|t|</th>  <th>[0.025</th>    <th>0.975]</th>  \n",
              "</tr>\n",
              "<tr>\n",
              "  <th>BB</th> <td> -1.11e-16</td> <td> 3.05e-16</td> <td>   -0.365</td> <td> 0.715</td> <td>-7.09e-16</td> <td> 4.87e-16</td>\n",
              "</tr>\n",
              "<tr>\n",
              "  <th>HR</th> <td> 6.661e-16</td> <td> 7.43e-16</td> <td>    0.897</td> <td> 0.370</td> <td>-7.91e-16</td> <td> 2.12e-15</td>\n",
              "</tr>\n",
              "<tr>\n",
              "  <th>R</th>  <td>    1.0000</td> <td> 2.99e-16</td> <td> 3.35e+15</td> <td> 0.000</td> <td>    1.000</td> <td>    1.000</td>\n",
              "</tr>\n",
              "</table>\n",
              "<table class=\"simpletable\">\n",
              "<tr>\n",
              "  <th>Omnibus:</th>       <td>115.627</td> <th>  Durbin-Watson:     </th> <td>   0.039</td>\n",
              "</tr>\n",
              "<tr>\n",
              "  <th>Prob(Omnibus):</th> <td> 0.000</td>  <th>  Jarque-Bera (JB):  </th> <td> 156.422</td>\n",
              "</tr>\n",
              "<tr>\n",
              "  <th>Skew:</th>          <td>-0.874</td>  <th>  Prob(JB):          </th> <td>1.08e-34</td>\n",
              "</tr>\n",
              "<tr>\n",
              "  <th>Kurtosis:</th>      <td> 3.777</td>  <th>  Cond. No.          </th> <td>    34.7</td>\n",
              "</tr>\n",
              "</table><br/><br/>Notes:<br/>[1] R² is computed without centering (uncentered) since the model does not contain a constant.<br/>[2] Standard Errors assume that the covariance matrix of the errors is correctly specified."
            ],
            "text/plain": [
              "<class 'statsmodels.iolib.summary.Summary'>\n",
              "\"\"\"\n",
              "                                 OLS Regression Results                                \n",
              "=======================================================================================\n",
              "Dep. Variable:                      R   R-squared (uncentered):                   1.000\n",
              "Model:                            OLS   Adj. R-squared (uncentered):              1.000\n",
              "Method:                 Least Squares   F-statistic:                          4.147e+32\n",
              "Date:                Mon, 29 Mar 2021   Prob (F-statistic):                        0.00\n",
              "Time:                        12:09:41   Log-Likelihood:                          32562.\n",
              "No. Observations:                1026   AIC:                                 -6.512e+04\n",
              "Df Residuals:                    1023   BIC:                                 -6.510e+04\n",
              "Df Model:                           3                                                  \n",
              "Covariance Type:            nonrobust                                                  \n",
              "==============================================================================\n",
              "                 coef    std err          t      P>|t|      [0.025      0.975]\n",
              "------------------------------------------------------------------------------\n",
              "BB          -1.11e-16   3.05e-16     -0.365      0.715   -7.09e-16    4.87e-16\n",
              "HR          6.661e-16   7.43e-16      0.897      0.370   -7.91e-16    2.12e-15\n",
              "R              1.0000   2.99e-16   3.35e+15      0.000       1.000       1.000\n",
              "==============================================================================\n",
              "Omnibus:                      115.627   Durbin-Watson:                   0.039\n",
              "Prob(Omnibus):                  0.000   Jarque-Bera (JB):              156.422\n",
              "Skew:                          -0.874   Prob(JB):                     1.08e-34\n",
              "Kurtosis:                       3.777   Cond. No.                         34.7\n",
              "==============================================================================\n",
              "\n",
              "Notes:\n",
              "[1] R² is computed without centering (uncentered) since the model does not contain a constant.\n",
              "[2] Standard Errors assume that the covariance matrix of the errors is correctly specified.\n",
              "\"\"\""
            ]
          },
          "metadata": {
            "tags": []
          },
          "execution_count": 2
        }
      ]
    },
    {
      "cell_type": "markdown",
      "metadata": {
        "id": "NvxNbm5gq6x8"
      },
      "source": [
        "When we fit the model with only one variable, the estimated slopes were **r bb_slope** and **r hr_slope** for BB and HR, respectively. Note that when fitting the multivariate model both go down, with the BB effect decreasing much more. \n",
        "\n",
        "Now we want to construct a metric to pick players, we need to consider singles, doubles, and triples as well. Can we build a model that predicts runs based on all these outcomes? \n",
        "\n",
        "We now are going to take somewhat of a \"leap of faith\" and assume that these five variables are jointly normal. This means that if we pick any one of them, and hold the other four fixed, the relationship with the outcome is linear and the slope does not depend on the four values held constant. If this is true, then a linear model for our data is:\n",
        "\n",
        "$$\n",
        "Y_i = \\beta_0 + \\beta_1 x_{i,1} + \\beta_2 x_{i,2} + \\beta_3 x_{i,3}+ \\beta_4 x_{i,4} + \\beta_5 x_{i,5} + \\varepsilon_i\n",
        "$$\n",
        "\n",
        "with $x_{i,1}, x_{i,2}, x_{i,3}, x_{i,4}, x_{i,5}$ representing BB, singles, doubles, triples, and HR respectively. \n"
      ],
      "id": "NvxNbm5gq6x8"
    },
    {
      "cell_type": "code",
      "metadata": {
        "id": "29fwk_7goJH4"
      },
      "source": [
        "\n",
        "teams[\"singles\"] = (teams[\"H\"] - teams[\"X2B\"] - teams[\"X3B\"] - teams[\"HR\"])/teams[\"G\"]\n",
        "teams[\"doubles\"] =  teams[\"X2B\"]/teams[\"G\"]\n",
        "teams[\"triples\"] = teams[\"X3B\"]/teams[\"G\"]\n",
        "team_features_2 = teams[[\"BB\",\"singles\",\"doubles\",\"triples\",\"HR\"]]\n",
        "\n",
        "# regress on \"teams\" features\n",
        "reg = LinearRegression().fit(team_features_2, team_runs)\n"
      ],
      "id": "29fwk_7goJH4",
      "execution_count": null,
      "outputs": []
    },
    {
      "cell_type": "code",
      "metadata": {
        "colab": {
          "base_uri": "https://localhost:8080/"
        },
        "id": "2mPBqr0IosYG",
        "outputId": "2339f0d6-a390-4ae1-d3e8-c9ad8c693d62"
      },
      "source": [
        "print (\"coefficient of regression: \")\n",
        "print (reg.coef_)"
      ],
      "id": "2mPBqr0IosYG",
      "execution_count": null,
      "outputs": [
        {
          "output_type": "stream",
          "text": [
            "coefficient of regression: \n",
            "[0.37123758 0.51941141 0.77130071 1.23992593 0.92717393]\n"
          ],
          "name": "stdout"
        }
      ]
    },
    {
      "cell_type": "markdown",
      "metadata": {
        "id": "golden-budget"
      },
      "source": [
        "\n",
        "\n",
        "So instead of using batting average, or just number of HR, as a measure of picking players, we can use our fitted model to form a metric that relates more directly to run production. Specifically, to define a metric for player A, we imagine a team made up of players just like player A and use our fitted regression model to predict how many runs this team would produce. The formula would look like this: \n",
        "\n",
        "\n",
        "\n",
        "To define a player-specific metric, we have a bit more work to do. A challenge here is that we derived the metric for teams, based on team-level summary statistics. For example, the HR value that is entered into the equation is HR per game for the entire team. If we compute the HR per game for a player, it will be much lower since the total is accumulated by 9 batters. Furthermore, if a player only plays part of the game and gets fewer opportunities than average, it is still considered a game played. For players, a rate that takes into account opportunities is the per-plate-appearance rate. \n",
        "\n",
        "To make the per-game team rate comparable to the per-plate-appearance player rate, we compute the average number of team plate appearances per game:"
      ],
      "id": "golden-budget"
    },
    {
      "cell_type": "code",
      "metadata": {
        "id": "pobDXjF3qiPX"
      },
      "source": [
        "batting=pd.read_csv(\"https://raw.githubusercontent.com/tleitch/BDML/main/data/Batting.csv\")\n"
      ],
      "id": "pobDXjF3qiPX",
      "execution_count": null,
      "outputs": []
    },
    {
      "cell_type": "code",
      "metadata": {
        "id": "utelEp_osobc"
      },
      "source": [
        "def extract_pa_per_game(df):\n",
        "    \n",
        "    pa_per_game = (df['AB'].sum() + df[\"BB\"].sum())/df[\"G\"].max()\n",
        "    \n",
        "    return pa_per_game\n"
      ],
      "id": "utelEp_osobc",
      "execution_count": null,
      "outputs": []
    },
    {
      "cell_type": "code",
      "metadata": {
        "id": "HJI9UNSFspaT"
      },
      "source": [
        "pa_per_game=batting[batting.yearID ==2002].groupby('teamID').apply(extract_pa_per_game)\n",
        "average_pa_teamwise = pa_per_game.mean()"
      ],
      "id": "HJI9UNSFspaT",
      "execution_count": null,
      "outputs": []
    },
    {
      "cell_type": "markdown",
      "metadata": {
        "id": "german-extra"
      },
      "source": [
        "We compute the per-plate-appearance rates for players available in 2002 on data from 1997-2001. To avoid small sample artifacts, we filter players with less than 200 plate appearances per year. Here is the entire calculation in one line:"
      ],
      "id": "german-extra"
    },
    {
      "cell_type": "code",
      "metadata": {
        "id": "LcIo0qH0sxvu"
      },
      "source": [
        "batting[\"PA\"] = batting[\"AB\"] + batting[\"BB\"]\n",
        "batting[\"singles\"] = batting[\"H\"] - batting[\"X2B\"] - batting[\"X3B\"] - batting[\"HR\"]\n",
        "\n",
        "players = batting[(batting.yearID >= 1997) & (batting.yearID <=2001)].groupby('playerID').agg(PA_sum = (\"PA\",sum),HR_sum=(\"HR\",sum),BB_sum=(\"BB\",sum),singles_sum=(\"singles\",sum),doubles_sum=(\"X2B\",sum),triples_sum=(\"X3B\",sum),AB_sum=(\"AB\",sum),H_sum=(\"H\",sum))\n",
        "players[\"Average_PA\"] = players[\"PA_sum\"]/average_pa_teamwise\n",
        "players[\"HR\"] = players[\"HR_sum\"]/players[\"Average_PA\"]\n",
        "players[\"BB\"] = players[\"BB_sum\"]/players[\"Average_PA\"]\n",
        "players[\"singles\"] = players[\"singles_sum\"]/players[\"Average_PA\"]\n",
        "players[\"doubles\"] = players[\"doubles_sum\"]/players['Average_PA']\n",
        "players[\"triples\"] = players[\"triples_sum\"]/players[\"Average_PA\"]\n",
        "players[\"Average\"] = players[\"H_sum\"]/players[\"AB_sum\"]\n",
        "players = players[players.PA_sum >= 1000]"
      ],
      "id": "LcIo0qH0sxvu",
      "execution_count": null,
      "outputs": []
    },
    {
      "cell_type": "code",
      "metadata": {
        "colab": {
          "base_uri": "https://localhost:8080/",
          "height": 220
        },
        "id": "cd5z5LiJtMmN",
        "outputId": "e7a1abbf-a76c-4f4c-8d84-6b756297955d"
      },
      "source": [
        "players_features = players[[\"HR\",\"BB\",\"singles\",\"doubles\",\"triples\"]]\n",
        "players_features.head()"
      ],
      "id": "cd5z5LiJtMmN",
      "execution_count": null,
      "outputs": [
        {
          "output_type": "execute_result",
          "data": {
            "text/html": [
              "<div>\n",
              "<style scoped>\n",
              "    .dataframe tbody tr th:only-of-type {\n",
              "        vertical-align: middle;\n",
              "    }\n",
              "\n",
              "    .dataframe tbody tr th {\n",
              "        vertical-align: top;\n",
              "    }\n",
              "\n",
              "    .dataframe thead th {\n",
              "        text-align: right;\n",
              "    }\n",
              "</style>\n",
              "<table border=\"1\" class=\"dataframe\">\n",
              "  <thead>\n",
              "    <tr style=\"text-align: right;\">\n",
              "      <th></th>\n",
              "      <th>HR</th>\n",
              "      <th>BB</th>\n",
              "      <th>singles</th>\n",
              "      <th>doubles</th>\n",
              "      <th>triples</th>\n",
              "    </tr>\n",
              "    <tr>\n",
              "      <th>playerID</th>\n",
              "      <th></th>\n",
              "      <th></th>\n",
              "      <th></th>\n",
              "      <th></th>\n",
              "      <th></th>\n",
              "    </tr>\n",
              "  </thead>\n",
              "  <tbody>\n",
              "    <tr>\n",
              "      <th>abreubo01</th>\n",
              "      <td>1.321375</td>\n",
              "      <td>5.781016</td>\n",
              "      <td>6.111359</td>\n",
              "      <td>2.257349</td>\n",
              "      <td>0.454223</td>\n",
              "    </tr>\n",
              "    <tr>\n",
              "      <th>agbaybe01</th>\n",
              "      <td>1.279368</td>\n",
              "      <td>4.496064</td>\n",
              "      <td>6.287179</td>\n",
              "      <td>1.864222</td>\n",
              "      <td>0.219320</td>\n",
              "    </tr>\n",
              "    <tr>\n",
              "      <th>alfoned01</th>\n",
              "      <td>1.214388</td>\n",
              "      <td>4.541305</td>\n",
              "      <td>6.767683</td>\n",
              "      <td>1.998680</td>\n",
              "      <td>0.088549</td>\n",
              "    </tr>\n",
              "    <tr>\n",
              "      <th>alicelu01</th>\n",
              "      <td>0.475905</td>\n",
              "      <td>4.283142</td>\n",
              "      <td>6.722153</td>\n",
              "      <td>1.626007</td>\n",
              "      <td>0.436246</td>\n",
              "    </tr>\n",
              "    <tr>\n",
              "      <th>alomaro01</th>\n",
              "      <td>1.141080</td>\n",
              "      <td>4.288455</td>\n",
              "      <td>7.310437</td>\n",
              "      <td>2.169306</td>\n",
              "      <td>0.250787</td>\n",
              "    </tr>\n",
              "  </tbody>\n",
              "</table>\n",
              "</div>"
            ],
            "text/plain": [
              "                 HR        BB   singles   doubles   triples\n",
              "playerID                                                   \n",
              "abreubo01  1.321375  5.781016  6.111359  2.257349  0.454223\n",
              "agbaybe01  1.279368  4.496064  6.287179  1.864222  0.219320\n",
              "alfoned01  1.214388  4.541305  6.767683  1.998680  0.088549\n",
              "alicelu01  0.475905  4.283142  6.722153  1.626007  0.436246\n",
              "alomaro01  1.141080  4.288455  7.310437  2.169306  0.250787"
            ]
          },
          "metadata": {
            "tags": []
          },
          "execution_count": 9
        }
      ]
    },
    {
      "cell_type": "code",
      "metadata": {
        "colab": {
          "base_uri": "https://localhost:8080/",
          "height": 220
        },
        "id": "wOD1eFcxtOiB",
        "outputId": "748556bd-a2b7-44d3-cc16-c44c5eedaf4b"
      },
      "source": [
        "players_features_save=copy.deepcopy(players_features)\n",
        "players_features[\"R_hat\"]=(reg.predict(players_features))\n",
        "players_features_save.head()"
      ],
      "id": "wOD1eFcxtOiB",
      "execution_count": null,
      "outputs": [
        {
          "output_type": "execute_result",
          "data": {
            "text/html": [
              "<div>\n",
              "<style scoped>\n",
              "    .dataframe tbody tr th:only-of-type {\n",
              "        vertical-align: middle;\n",
              "    }\n",
              "\n",
              "    .dataframe tbody tr th {\n",
              "        vertical-align: top;\n",
              "    }\n",
              "\n",
              "    .dataframe thead th {\n",
              "        text-align: right;\n",
              "    }\n",
              "</style>\n",
              "<table border=\"1\" class=\"dataframe\">\n",
              "  <thead>\n",
              "    <tr style=\"text-align: right;\">\n",
              "      <th></th>\n",
              "      <th>HR</th>\n",
              "      <th>BB</th>\n",
              "      <th>singles</th>\n",
              "      <th>doubles</th>\n",
              "      <th>triples</th>\n",
              "    </tr>\n",
              "    <tr>\n",
              "      <th>playerID</th>\n",
              "      <th></th>\n",
              "      <th></th>\n",
              "      <th></th>\n",
              "      <th></th>\n",
              "      <th></th>\n",
              "    </tr>\n",
              "  </thead>\n",
              "  <tbody>\n",
              "    <tr>\n",
              "      <th>abreubo01</th>\n",
              "      <td>1.321375</td>\n",
              "      <td>5.781016</td>\n",
              "      <td>6.111359</td>\n",
              "      <td>2.257349</td>\n",
              "      <td>0.454223</td>\n",
              "    </tr>\n",
              "    <tr>\n",
              "      <th>agbaybe01</th>\n",
              "      <td>1.279368</td>\n",
              "      <td>4.496064</td>\n",
              "      <td>6.287179</td>\n",
              "      <td>1.864222</td>\n",
              "      <td>0.219320</td>\n",
              "    </tr>\n",
              "    <tr>\n",
              "      <th>alfoned01</th>\n",
              "      <td>1.214388</td>\n",
              "      <td>4.541305</td>\n",
              "      <td>6.767683</td>\n",
              "      <td>1.998680</td>\n",
              "      <td>0.088549</td>\n",
              "    </tr>\n",
              "    <tr>\n",
              "      <th>alicelu01</th>\n",
              "      <td>0.475905</td>\n",
              "      <td>4.283142</td>\n",
              "      <td>6.722153</td>\n",
              "      <td>1.626007</td>\n",
              "      <td>0.436246</td>\n",
              "    </tr>\n",
              "    <tr>\n",
              "      <th>alomaro01</th>\n",
              "      <td>1.141080</td>\n",
              "      <td>4.288455</td>\n",
              "      <td>7.310437</td>\n",
              "      <td>2.169306</td>\n",
              "      <td>0.250787</td>\n",
              "    </tr>\n",
              "  </tbody>\n",
              "</table>\n",
              "</div>"
            ],
            "text/plain": [
              "                 HR        BB   singles   doubles   triples\n",
              "playerID                                                   \n",
              "abreubo01  1.321375  5.781016  6.111359  2.257349  0.454223\n",
              "agbaybe01  1.279368  4.496064  6.287179  1.864222  0.219320\n",
              "alfoned01  1.214388  4.541305  6.767683  1.998680  0.088549\n",
              "alicelu01  0.475905  4.283142  6.722153  1.626007  0.436246\n",
              "alomaro01  1.141080  4.288455  7.310437  2.169306  0.250787"
            ]
          },
          "metadata": {
            "tags": []
          },
          "execution_count": 10
        }
      ]
    },
    {
      "cell_type": "code",
      "metadata": {
        "colab": {
          "base_uri": "https://localhost:8080/",
          "height": 191
        },
        "id": "HhEEJumduPmn",
        "outputId": "7527ec34-c8a1-4db1-9279-ce52291c667e"
      },
      "source": [
        "master = pd.read_csv(\"https://raw.githubusercontent.com/tleitch/BDML/main/data/master.csv\")\n",
        "players_features  =  pd.merge(master[[\"playerID\",\"nameFirst\",\"nameLast\"]],players_features,on=\"playerID\")\n",
        "players_features.head()"
      ],
      "id": "HhEEJumduPmn",
      "execution_count": null,
      "outputs": [
        {
          "output_type": "execute_result",
          "data": {
            "text/html": [
              "<div>\n",
              "<style scoped>\n",
              "    .dataframe tbody tr th:only-of-type {\n",
              "        vertical-align: middle;\n",
              "    }\n",
              "\n",
              "    .dataframe tbody tr th {\n",
              "        vertical-align: top;\n",
              "    }\n",
              "\n",
              "    .dataframe thead th {\n",
              "        text-align: right;\n",
              "    }\n",
              "</style>\n",
              "<table border=\"1\" class=\"dataframe\">\n",
              "  <thead>\n",
              "    <tr style=\"text-align: right;\">\n",
              "      <th></th>\n",
              "      <th>playerID</th>\n",
              "      <th>nameFirst</th>\n",
              "      <th>nameLast</th>\n",
              "      <th>HR</th>\n",
              "      <th>BB</th>\n",
              "      <th>singles</th>\n",
              "      <th>doubles</th>\n",
              "      <th>triples</th>\n",
              "      <th>R_hat</th>\n",
              "    </tr>\n",
              "  </thead>\n",
              "  <tbody>\n",
              "    <tr>\n",
              "      <th>0</th>\n",
              "      <td>abreubo01</td>\n",
              "      <td>Bobby</td>\n",
              "      <td>Abreu</td>\n",
              "      <td>1.321375</td>\n",
              "      <td>5.781016</td>\n",
              "      <td>6.111359</td>\n",
              "      <td>2.257349</td>\n",
              "      <td>0.454223</td>\n",
              "      <td>8.657520</td>\n",
              "    </tr>\n",
              "    <tr>\n",
              "      <th>1</th>\n",
              "      <td>agbaybe01</td>\n",
              "      <td>Benny</td>\n",
              "      <td>Agbayani</td>\n",
              "      <td>1.279368</td>\n",
              "      <td>4.496064</td>\n",
              "      <td>6.287179</td>\n",
              "      <td>1.864222</td>\n",
              "      <td>0.219320</td>\n",
              "      <td>7.404873</td>\n",
              "    </tr>\n",
              "    <tr>\n",
              "      <th>2</th>\n",
              "      <td>alfoned01</td>\n",
              "      <td>Edgardo</td>\n",
              "      <td>Alfonzo</td>\n",
              "      <td>1.214388</td>\n",
              "      <td>4.541305</td>\n",
              "      <td>6.767683</td>\n",
              "      <td>1.998680</td>\n",
              "      <td>0.088549</td>\n",
              "      <td>7.820334</td>\n",
              "    </tr>\n",
              "    <tr>\n",
              "      <th>3</th>\n",
              "      <td>alicelu01</td>\n",
              "      <td>Luis</td>\n",
              "      <td>Alicea</td>\n",
              "      <td>0.475905</td>\n",
              "      <td>4.283142</td>\n",
              "      <td>6.722153</td>\n",
              "      <td>1.626007</td>\n",
              "      <td>0.436246</td>\n",
              "      <td>7.237259</td>\n",
              "    </tr>\n",
              "    <tr>\n",
              "      <th>4</th>\n",
              "      <td>alomaro01</td>\n",
              "      <td>Roberto</td>\n",
              "      <td>Alomar</td>\n",
              "      <td>1.141080</td>\n",
              "      <td>4.288455</td>\n",
              "      <td>7.310437</td>\n",
              "      <td>2.169306</td>\n",
              "      <td>0.250787</td>\n",
              "      <td>8.442398</td>\n",
              "    </tr>\n",
              "  </tbody>\n",
              "</table>\n",
              "</div>"
            ],
            "text/plain": [
              "    playerID nameFirst  nameLast        HR        BB   singles   doubles  \\\n",
              "0  abreubo01     Bobby     Abreu  1.321375  5.781016  6.111359  2.257349   \n",
              "1  agbaybe01     Benny  Agbayani  1.279368  4.496064  6.287179  1.864222   \n",
              "2  alfoned01   Edgardo   Alfonzo  1.214388  4.541305  6.767683  1.998680   \n",
              "3  alicelu01      Luis    Alicea  0.475905  4.283142  6.722153  1.626007   \n",
              "4  alomaro01   Roberto    Alomar  1.141080  4.288455  7.310437  2.169306   \n",
              "\n",
              "    triples     R_hat  \n",
              "0  0.454223  8.657520  \n",
              "1  0.219320  7.404873  \n",
              "2  0.088549  7.820334  \n",
              "3  0.436246  7.237259  \n",
              "4  0.250787  8.442398  "
            ]
          },
          "metadata": {
            "tags": []
          },
          "execution_count": 11
        }
      ]
    },
    {
      "cell_type": "markdown",
      "metadata": {
        "id": "governing-sharp"
      },
      "source": [
        "The player-specific predicted runs computed here can be interpreted as the number of runs we predict a team will score if all batters are exactly like that player. The distribution shows that there is wide variability across players:"
      ],
      "id": "governing-sharp"
    },
    {
      "cell_type": "code",
      "metadata": {
        "colab": {
          "base_uri": "https://localhost:8080/",
          "height": 512
        },
        "id": "OeBRz3Gx3AM2",
        "outputId": "e1ae6a9c-67ee-4b98-900b-abb6e4b0c2f5"
      },
      "source": [
        "n_bins = 50\n",
        "fig, axs = plt.subplots(1, 1,\n",
        "                        figsize =(10, 7), \n",
        "                        tight_layout = True)\n",
        "#plt.hist(x=players_features[\"R_hat\"])  \n",
        "hist_df=axs.hist(x=players_features[\"R_hat\"], bins = n_bins)"
      ],
      "id": "OeBRz3Gx3AM2",
      "execution_count": null,
      "outputs": [
        {
          "output_type": "display_data",
          "data": {
            "image/png": "[encoded data removed]",
            "text/plain": [
              "<Figure size 720x504 with 1 Axes>"
            ]
          },
          "metadata": {
            "tags": [],
            "needs_background": "light"
          }
        }
      ]
    },
    {
      "cell_type": "markdown",
      "metadata": {
        "id": "dying-valve"
      },
      "source": [
        "### Adding salary and position information\n",
        "\n",
        "To actually build the team, we will need to know their salaries as well as their defensive position. For this, we join the **players** data frame we just created with the player information data frame included in some of the other Lahman data tables. We will learn more about the join function we learned in Section \\@ref(joins). \n",
        "\n",
        "Start by adding the 2002 salary of each player:"
      ],
      "id": "dying-valve"
    },
    {
      "cell_type": "code",
      "metadata": {
        "id": "Mor5b6w4uh_f"
      },
      "source": [
        "Salaries=pd.read_csv(\"https://raw.githubusercontent.com/tleitch/BDML/main/data/salaries.csv\")\n",
        "salaries_yr_2002 =Salaries[Salaries.yearID==2002]\n",
        "salaries_yr_2002= salaries_yr_2002[[\"playerID\",\"salary\"]]"
      ],
      "id": "Mor5b6w4uh_f",
      "execution_count": null,
      "outputs": []
    },
    {
      "cell_type": "code",
      "metadata": {
        "colab": {
          "base_uri": "https://localhost:8080/",
          "height": 191
        },
        "id": "fIUAnLt3uumh",
        "outputId": "3bab6c7d-6086-481c-dd92-77bd17744c3c"
      },
      "source": [
        "player_insights = pd.merge(salaries_yr_2002, players_features, on='playerID')\n",
        "player_insights.head()"
      ],
      "id": "fIUAnLt3uumh",
      "execution_count": null,
      "outputs": [
        {
          "output_type": "execute_result",
          "data": {
            "text/html": [
              "<div>\n",
              "<style scoped>\n",
              "    .dataframe tbody tr th:only-of-type {\n",
              "        vertical-align: middle;\n",
              "    }\n",
              "\n",
              "    .dataframe tbody tr th {\n",
              "        vertical-align: top;\n",
              "    }\n",
              "\n",
              "    .dataframe thead th {\n",
              "        text-align: right;\n",
              "    }\n",
              "</style>\n",
              "<table border=\"1\" class=\"dataframe\">\n",
              "  <thead>\n",
              "    <tr style=\"text-align: right;\">\n",
              "      <th></th>\n",
              "      <th>playerID</th>\n",
              "      <th>salary</th>\n",
              "      <th>nameFirst</th>\n",
              "      <th>nameLast</th>\n",
              "      <th>HR</th>\n",
              "      <th>BB</th>\n",
              "      <th>singles</th>\n",
              "      <th>doubles</th>\n",
              "      <th>triples</th>\n",
              "      <th>R_hat</th>\n",
              "    </tr>\n",
              "  </thead>\n",
              "  <tbody>\n",
              "    <tr>\n",
              "      <th>0</th>\n",
              "      <td>anderga01</td>\n",
              "      <td>5000000</td>\n",
              "      <td>Garret</td>\n",
              "      <td>Anderson</td>\n",
              "      <td>1.245384</td>\n",
              "      <td>1.676031</td>\n",
              "      <td>7.251160</td>\n",
              "      <td>2.234707</td>\n",
              "      <td>0.197865</td>\n",
              "      <td>7.110501</td>\n",
              "    </tr>\n",
              "    <tr>\n",
              "      <th>1</th>\n",
              "      <td>erstada01</td>\n",
              "      <td>6250000</td>\n",
              "      <td>Darin</td>\n",
              "      <td>Erstad</td>\n",
              "      <td>0.982139</td>\n",
              "      <td>3.197939</td>\n",
              "      <td>7.198358</td>\n",
              "      <td>2.024164</td>\n",
              "      <td>0.227569</td>\n",
              "      <td>7.529027</td>\n",
              "    </tr>\n",
              "    <tr>\n",
              "      <th>2</th>\n",
              "      <td>fabrejo01</td>\n",
              "      <td>500000</td>\n",
              "      <td>Jorge</td>\n",
              "      <td>Fabregas</td>\n",
              "      <td>0.583429</td>\n",
              "      <td>2.230759</td>\n",
              "      <td>6.623638</td>\n",
              "      <td>1.132539</td>\n",
              "      <td>0.171597</td>\n",
              "      <td>5.277921</td>\n",
              "    </tr>\n",
              "    <tr>\n",
              "      <th>3</th>\n",
              "      <td>fullmbr01</td>\n",
              "      <td>4000000</td>\n",
              "      <td>Brad</td>\n",
              "      <td>Fullmer</td>\n",
              "      <td>1.433642</td>\n",
              "      <td>2.504095</td>\n",
              "      <td>5.906606</td>\n",
              "      <td>2.676132</td>\n",
              "      <td>0.133807</td>\n",
              "      <td>7.061380</td>\n",
              "    </tr>\n",
              "    <tr>\n",
              "      <th>4</th>\n",
              "      <td>glaustr01</td>\n",
              "      <td>4000000</td>\n",
              "      <td>Troy</td>\n",
              "      <td>Glaus</td>\n",
              "      <td>2.105016</td>\n",
              "      <td>5.440932</td>\n",
              "      <td>4.299228</td>\n",
              "      <td>2.015821</td>\n",
              "      <td>0.053517</td>\n",
              "      <td>6.703095</td>\n",
              "    </tr>\n",
              "  </tbody>\n",
              "</table>\n",
              "</div>"
            ],
            "text/plain": [
              "    playerID   salary nameFirst  nameLast        HR        BB   singles  \\\n",
              "0  anderga01  5000000    Garret  Anderson  1.245384  1.676031  7.251160   \n",
              "1  erstada01  6250000     Darin    Erstad  0.982139  3.197939  7.198358   \n",
              "2  fabrejo01   500000     Jorge  Fabregas  0.583429  2.230759  6.623638   \n",
              "3  fullmbr01  4000000      Brad   Fullmer  1.433642  2.504095  5.906606   \n",
              "4  glaustr01  4000000      Troy     Glaus  2.105016  5.440932  4.299228   \n",
              "\n",
              "    doubles   triples     R_hat  \n",
              "0  2.234707  0.197865  7.110501  \n",
              "1  2.024164  0.227569  7.529027  \n",
              "2  1.132539  0.171597  5.277921  \n",
              "3  2.676132  0.133807  7.061380  \n",
              "4  2.015821  0.053517  6.703095  "
            ]
          },
          "metadata": {
            "tags": []
          },
          "execution_count": 14
        }
      ]
    },
    {
      "cell_type": "code",
      "metadata": {
        "colab": {
          "base_uri": "https://localhost:8080/",
          "height": 191
        },
        "id": "4bAY083TEi0O",
        "outputId": "67c0e748-f4d4-4d45-f959-3f54950967fb"
      },
      "source": [
        "player_insights = player_insights.sort_values(by=['R_hat'], ascending=False)\n",
        "player_insights.head()"
      ],
      "id": "4bAY083TEi0O",
      "execution_count": null,
      "outputs": [
        {
          "output_type": "execute_result",
          "data": {
            "text/html": [
              "<div>\n",
              "<style scoped>\n",
              "    .dataframe tbody tr th:only-of-type {\n",
              "        vertical-align: middle;\n",
              "    }\n",
              "\n",
              "    .dataframe tbody tr th {\n",
              "        vertical-align: top;\n",
              "    }\n",
              "\n",
              "    .dataframe thead th {\n",
              "        text-align: right;\n",
              "    }\n",
              "</style>\n",
              "<table border=\"1\" class=\"dataframe\">\n",
              "  <thead>\n",
              "    <tr style=\"text-align: right;\">\n",
              "      <th></th>\n",
              "      <th>playerID</th>\n",
              "      <th>salary</th>\n",
              "      <th>nameFirst</th>\n",
              "      <th>nameLast</th>\n",
              "      <th>HR</th>\n",
              "      <th>BB</th>\n",
              "      <th>singles</th>\n",
              "      <th>doubles</th>\n",
              "      <th>triples</th>\n",
              "      <th>R_hat</th>\n",
              "    </tr>\n",
              "  </thead>\n",
              "  <tbody>\n",
              "    <tr>\n",
              "      <th>90</th>\n",
              "      <td>walkela01</td>\n",
              "      <td>12666667</td>\n",
              "      <td>Larry</td>\n",
              "      <td>Walker</td>\n",
              "      <td>2.326584</td>\n",
              "      <td>4.876878</td>\n",
              "      <td>6.845525</td>\n",
              "      <td>2.595036</td>\n",
              "      <td>0.313194</td>\n",
              "      <td>9.415283</td>\n",
              "    </tr>\n",
              "    <tr>\n",
              "      <th>222</th>\n",
              "      <td>martied01</td>\n",
              "      <td>7086668</td>\n",
              "      <td>Edgar</td>\n",
              "      <td>Martinez</td>\n",
              "      <td>1.741558</td>\n",
              "      <td>6.311602</td>\n",
              "      <td>6.410414</td>\n",
              "      <td>2.309725</td>\n",
              "      <td>0.049406</td>\n",
              "      <td>9.009369</td>\n",
              "    </tr>\n",
              "    <tr>\n",
              "      <th>87</th>\n",
              "      <td>heltoto01</td>\n",
              "      <td>5000000</td>\n",
              "      <td>Todd</td>\n",
              "      <td>Helton</td>\n",
              "      <td>2.240350</td>\n",
              "      <td>4.739202</td>\n",
              "      <td>6.218408</td>\n",
              "      <td>2.742993</td>\n",
              "      <td>0.157973</td>\n",
              "      <td>8.867603</td>\n",
              "    </tr>\n",
              "    <tr>\n",
              "      <th>174</th>\n",
              "      <td>willibe02</td>\n",
              "      <td>12357143</td>\n",
              "      <td>Bernie</td>\n",
              "      <td>Williams</td>\n",
              "      <td>1.614440</td>\n",
              "      <td>4.994675</td>\n",
              "      <td>6.937048</td>\n",
              "      <td>2.118953</td>\n",
              "      <td>0.290095</td>\n",
              "      <td>8.670962</td>\n",
              "    </tr>\n",
              "    <tr>\n",
              "      <th>194</th>\n",
              "      <td>abreubo01</td>\n",
              "      <td>6333333</td>\n",
              "      <td>Bobby</td>\n",
              "      <td>Abreu</td>\n",
              "      <td>1.321375</td>\n",
              "      <td>5.781016</td>\n",
              "      <td>6.111359</td>\n",
              "      <td>2.257349</td>\n",
              "      <td>0.454223</td>\n",
              "      <td>8.657520</td>\n",
              "    </tr>\n",
              "  </tbody>\n",
              "</table>\n",
              "</div>"
            ],
            "text/plain": [
              "      playerID    salary nameFirst  nameLast        HR        BB   singles  \\\n",
              "90   walkela01  12666667     Larry    Walker  2.326584  4.876878  6.845525   \n",
              "222  martied01   7086668     Edgar  Martinez  1.741558  6.311602  6.410414   \n",
              "87   heltoto01   5000000      Todd    Helton  2.240350  4.739202  6.218408   \n",
              "174  willibe02  12357143    Bernie  Williams  1.614440  4.994675  6.937048   \n",
              "194  abreubo01   6333333     Bobby     Abreu  1.321375  5.781016  6.111359   \n",
              "\n",
              "      doubles   triples     R_hat  \n",
              "90   2.595036  0.313194  9.415283  \n",
              "222  2.309725  0.049406  9.009369  \n",
              "87   2.742993  0.157973  8.867603  \n",
              "174  2.118953  0.290095  8.670962  \n",
              "194  2.257349  0.454223  8.657520  "
            ]
          },
          "metadata": {
            "tags": []
          },
          "execution_count": 15
        }
      ]
    },
    {
      "cell_type": "markdown",
      "metadata": {
        "id": "Sb0rnDedFOnQ"
      },
      "source": [
        "We can see from the above dataframe that there are players whose salary is less but have a better estimate of predicted runs."
      ],
      "id": "Sb0rnDedFOnQ"
    },
    {
      "cell_type": "markdown",
      "metadata": {
        "id": "enhanced-scratch"
      },
      "source": [
        "Next, we add their defensive position. This is a somewhat complicated task because players play more than one position each year.  However, because some players are traded, they appear more than once on the table, so we first sum their appearances across teams.\n",
        "We also remove the **OF** position which stands for outfielder, a generalization of three positions: left field (LF), center field (CF), and right field (RF). We also remove pitchers since they don't bat in the league in which the A's play."
      ],
      "id": "enhanced-scratch"
    },
    {
      "cell_type": "code",
      "metadata": {
        "id": "ZBMS64Rcu5S4"
      },
      "source": [
        "appearances = pd.read_csv(\"https://raw.githubusercontent.com/tleitch/BDML/main/data/appearances.csv\")"
      ],
      "id": "ZBMS64Rcu5S4",
      "execution_count": null,
      "outputs": []
    },
    {
      "cell_type": "code",
      "metadata": {
        "id": "-wcXqGnzvC4I"
      },
      "source": [
        "append_str = 'G_'\n",
        "position_names = [\"p\",\"c\",\"1b\",\"2b\",\"3b\",\"ss\",\"lf\",\"cf\",\"rf\", \"dh\"]\n",
        "position_names = [append_str + sub for sub in position_names]"
      ],
      "id": "-wcXqGnzvC4I",
      "execution_count": null,
      "outputs": []
    },
    {
      "cell_type": "code",
      "metadata": {
        "id": "0EGzBpZHvIC9"
      },
      "source": [
        "operations_dict = {}\n",
        "for term in position_names:\n",
        "    operations_dict[term] = \"sum\""
      ],
      "id": "0EGzBpZHvIC9",
      "execution_count": null,
      "outputs": []
    },
    {
      "cell_type": "code",
      "metadata": {
        "id": "wkMdX2D5vLio"
      },
      "source": [
        "result = appearances[appearances.yearID == 2002].groupby(\"playerID\").agg(operations_dict)"
      ],
      "id": "wkMdX2D5vLio",
      "execution_count": null,
      "outputs": []
    },
    {
      "cell_type": "code",
      "metadata": {
        "colab": {
          "base_uri": "https://localhost:8080/",
          "height": 220
        },
        "id": "i7btBmMbeCd9",
        "outputId": "85ecb6c5-81a2-4e70-de4d-79fe4e6ca2ce"
      },
      "source": [
        "result.head()"
      ],
      "id": "i7btBmMbeCd9",
      "execution_count": null,
      "outputs": [
        {
          "output_type": "execute_result",
          "data": {
            "text/html": [
              "<div>\n",
              "<style scoped>\n",
              "    .dataframe tbody tr th:only-of-type {\n",
              "        vertical-align: middle;\n",
              "    }\n",
              "\n",
              "    .dataframe tbody tr th {\n",
              "        vertical-align: top;\n",
              "    }\n",
              "\n",
              "    .dataframe thead th {\n",
              "        text-align: right;\n",
              "    }\n",
              "</style>\n",
              "<table border=\"1\" class=\"dataframe\">\n",
              "  <thead>\n",
              "    <tr style=\"text-align: right;\">\n",
              "      <th></th>\n",
              "      <th>G_p</th>\n",
              "      <th>G_c</th>\n",
              "      <th>G_1b</th>\n",
              "      <th>G_2b</th>\n",
              "      <th>G_3b</th>\n",
              "      <th>G_ss</th>\n",
              "      <th>G_lf</th>\n",
              "      <th>G_cf</th>\n",
              "      <th>G_rf</th>\n",
              "      <th>G_dh</th>\n",
              "    </tr>\n",
              "    <tr>\n",
              "      <th>playerID</th>\n",
              "      <th></th>\n",
              "      <th></th>\n",
              "      <th></th>\n",
              "      <th></th>\n",
              "      <th></th>\n",
              "      <th></th>\n",
              "      <th></th>\n",
              "      <th></th>\n",
              "      <th></th>\n",
              "      <th></th>\n",
              "    </tr>\n",
              "  </thead>\n",
              "  <tbody>\n",
              "    <tr>\n",
              "      <th>abbotpa01</th>\n",
              "      <td>7</td>\n",
              "      <td>0</td>\n",
              "      <td>0</td>\n",
              "      <td>0</td>\n",
              "      <td>0</td>\n",
              "      <td>0</td>\n",
              "      <td>0</td>\n",
              "      <td>0</td>\n",
              "      <td>0</td>\n",
              "      <td>0.0</td>\n",
              "    </tr>\n",
              "    <tr>\n",
              "      <th>abernbr01</th>\n",
              "      <td>0</td>\n",
              "      <td>0</td>\n",
              "      <td>0</td>\n",
              "      <td>116</td>\n",
              "      <td>0</td>\n",
              "      <td>0</td>\n",
              "      <td>0</td>\n",
              "      <td>0</td>\n",
              "      <td>0</td>\n",
              "      <td>1.0</td>\n",
              "    </tr>\n",
              "    <tr>\n",
              "      <th>abreubo01</th>\n",
              "      <td>0</td>\n",
              "      <td>0</td>\n",
              "      <td>0</td>\n",
              "      <td>0</td>\n",
              "      <td>0</td>\n",
              "      <td>0</td>\n",
              "      <td>0</td>\n",
              "      <td>18</td>\n",
              "      <td>148</td>\n",
              "      <td>0.0</td>\n",
              "    </tr>\n",
              "    <tr>\n",
              "      <th>acevejo01</th>\n",
              "      <td>6</td>\n",
              "      <td>0</td>\n",
              "      <td>0</td>\n",
              "      <td>0</td>\n",
              "      <td>0</td>\n",
              "      <td>0</td>\n",
              "      <td>0</td>\n",
              "      <td>0</td>\n",
              "      <td>0</td>\n",
              "      <td>0.0</td>\n",
              "    </tr>\n",
              "    <tr>\n",
              "      <th>aceveju01</th>\n",
              "      <td>65</td>\n",
              "      <td>0</td>\n",
              "      <td>0</td>\n",
              "      <td>0</td>\n",
              "      <td>0</td>\n",
              "      <td>0</td>\n",
              "      <td>0</td>\n",
              "      <td>0</td>\n",
              "      <td>0</td>\n",
              "      <td>0.0</td>\n",
              "    </tr>\n",
              "  </tbody>\n",
              "</table>\n",
              "</div>"
            ],
            "text/plain": [
              "           G_p  G_c  G_1b  G_2b  G_3b  G_ss  G_lf  G_cf  G_rf  G_dh\n",
              "playerID                                                           \n",
              "abbotpa01    7    0     0     0     0     0     0     0     0   0.0\n",
              "abernbr01    0    0     0   116     0     0     0     0     0   1.0\n",
              "abreubo01    0    0     0     0     0     0     0    18   148   0.0\n",
              "acevejo01    6    0     0     0     0     0     0     0     0   0.0\n",
              "aceveju01   65    0     0     0     0     0     0     0     0   0.0"
            ]
          },
          "metadata": {
            "tags": []
          },
          "execution_count": 20
        }
      ]
    },
    {
      "cell_type": "code",
      "metadata": {
        "id": "ozX1E9RyeEDe"
      },
      "source": [
        "def max_position(x):\n",
        "    \n",
        "    position_counts = [x[term] for term in position_names]\n",
        "    return position_counts.index(max(position_counts))"
      ],
      "id": "ozX1E9RyeEDe",
      "execution_count": null,
      "outputs": []
    },
    {
      "cell_type": "code",
      "metadata": {
        "colab": {
          "base_uri": "https://localhost:8080/",
          "height": 220
        },
        "id": "cWQfc9e_eLWJ",
        "outputId": "f10d2812-0c35-45d1-d0b9-366ab50c5cd0"
      },
      "source": [
        "result[\"most_played_position\"] = result.apply(lambda x : position_names[max_position(x)][2:],axis=1)\n",
        "result.head()\n"
      ],
      "id": "cWQfc9e_eLWJ",
      "execution_count": null,
      "outputs": [
        {
          "output_type": "execute_result",
          "data": {
            "text/html": [
              "<div>\n",
              "<style scoped>\n",
              "    .dataframe tbody tr th:only-of-type {\n",
              "        vertical-align: middle;\n",
              "    }\n",
              "\n",
              "    .dataframe tbody tr th {\n",
              "        vertical-align: top;\n",
              "    }\n",
              "\n",
              "    .dataframe thead th {\n",
              "        text-align: right;\n",
              "    }\n",
              "</style>\n",
              "<table border=\"1\" class=\"dataframe\">\n",
              "  <thead>\n",
              "    <tr style=\"text-align: right;\">\n",
              "      <th></th>\n",
              "      <th>G_p</th>\n",
              "      <th>G_c</th>\n",
              "      <th>G_1b</th>\n",
              "      <th>G_2b</th>\n",
              "      <th>G_3b</th>\n",
              "      <th>G_ss</th>\n",
              "      <th>G_lf</th>\n",
              "      <th>G_cf</th>\n",
              "      <th>G_rf</th>\n",
              "      <th>G_dh</th>\n",
              "      <th>most_played_position</th>\n",
              "    </tr>\n",
              "    <tr>\n",
              "      <th>playerID</th>\n",
              "      <th></th>\n",
              "      <th></th>\n",
              "      <th></th>\n",
              "      <th></th>\n",
              "      <th></th>\n",
              "      <th></th>\n",
              "      <th></th>\n",
              "      <th></th>\n",
              "      <th></th>\n",
              "      <th></th>\n",
              "      <th></th>\n",
              "    </tr>\n",
              "  </thead>\n",
              "  <tbody>\n",
              "    <tr>\n",
              "      <th>abbotpa01</th>\n",
              "      <td>7</td>\n",
              "      <td>0</td>\n",
              "      <td>0</td>\n",
              "      <td>0</td>\n",
              "      <td>0</td>\n",
              "      <td>0</td>\n",
              "      <td>0</td>\n",
              "      <td>0</td>\n",
              "      <td>0</td>\n",
              "      <td>0.0</td>\n",
              "      <td>p</td>\n",
              "    </tr>\n",
              "    <tr>\n",
              "      <th>abernbr01</th>\n",
              "      <td>0</td>\n",
              "      <td>0</td>\n",
              "      <td>0</td>\n",
              "      <td>116</td>\n",
              "      <td>0</td>\n",
              "      <td>0</td>\n",
              "      <td>0</td>\n",
              "      <td>0</td>\n",
              "      <td>0</td>\n",
              "      <td>1.0</td>\n",
              "      <td>2b</td>\n",
              "    </tr>\n",
              "    <tr>\n",
              "      <th>abreubo01</th>\n",
              "      <td>0</td>\n",
              "      <td>0</td>\n",
              "      <td>0</td>\n",
              "      <td>0</td>\n",
              "      <td>0</td>\n",
              "      <td>0</td>\n",
              "      <td>0</td>\n",
              "      <td>18</td>\n",
              "      <td>148</td>\n",
              "      <td>0.0</td>\n",
              "      <td>rf</td>\n",
              "    </tr>\n",
              "    <tr>\n",
              "      <th>acevejo01</th>\n",
              "      <td>6</td>\n",
              "      <td>0</td>\n",
              "      <td>0</td>\n",
              "      <td>0</td>\n",
              "      <td>0</td>\n",
              "      <td>0</td>\n",
              "      <td>0</td>\n",
              "      <td>0</td>\n",
              "      <td>0</td>\n",
              "      <td>0.0</td>\n",
              "      <td>p</td>\n",
              "    </tr>\n",
              "    <tr>\n",
              "      <th>aceveju01</th>\n",
              "      <td>65</td>\n",
              "      <td>0</td>\n",
              "      <td>0</td>\n",
              "      <td>0</td>\n",
              "      <td>0</td>\n",
              "      <td>0</td>\n",
              "      <td>0</td>\n",
              "      <td>0</td>\n",
              "      <td>0</td>\n",
              "      <td>0.0</td>\n",
              "      <td>p</td>\n",
              "    </tr>\n",
              "  </tbody>\n",
              "</table>\n",
              "</div>"
            ],
            "text/plain": [
              "           G_p  G_c  G_1b  G_2b  G_3b  G_ss  G_lf  G_cf  G_rf  G_dh  \\\n",
              "playerID                                                              \n",
              "abbotpa01    7    0     0     0     0     0     0     0     0   0.0   \n",
              "abernbr01    0    0     0   116     0     0     0     0     0   1.0   \n",
              "abreubo01    0    0     0     0     0     0     0    18   148   0.0   \n",
              "acevejo01    6    0     0     0     0     0     0     0     0   0.0   \n",
              "aceveju01   65    0     0     0     0     0     0     0     0   0.0   \n",
              "\n",
              "          most_played_position  \n",
              "playerID                        \n",
              "abbotpa01                    p  \n",
              "abernbr01                   2b  \n",
              "abreubo01                   rf  \n",
              "acevejo01                    p  \n",
              "aceveju01                    p  "
            ]
          },
          "metadata": {
            "tags": []
          },
          "execution_count": 22
        }
      ]
    },
    {
      "cell_type": "code",
      "metadata": {
        "id": "qz80s-4NeXlw"
      },
      "source": [
        "player_salary_position = pd.merge(player_insights, result, on='playerID')\n",
        "player_salary_position.drop(position_names,axis=1,inplace=True)\n",
        "player_salary_position = player_salary_position[player_salary_position[\"most_played_position\"]!=\"p\"]"
      ],
      "id": "qz80s-4NeXlw",
      "execution_count": null,
      "outputs": []
    },
    {
      "cell_type": "code",
      "metadata": {
        "id": "XartdI3_eioa"
      },
      "source": [
        "position_names = [\"p\",\"c\",\"1b\",\"2b\",\"3b\",\"ss\",\"lf\",\"cf\",\"rf\", \"dh\"]\n",
        "for position in position_names:\n",
        "    player_salary_position[\"chronicle_delta_\" + str(position)] = player_salary_position.apply(lambda x : 1 if x.most_played_position == position else 0,axis=1)"
      ],
      "id": "XartdI3_eioa",
      "execution_count": null,
      "outputs": []
    },
    {
      "cell_type": "markdown",
      "metadata": {
        "id": "strategic-casting"
      },
      "source": [
        "### Picking nine players\n",
        "\n",
        "On average, players with a higher metric have higher salaries"
      ],
      "id": "strategic-casting"
    },
    {
      "cell_type": "markdown",
      "metadata": {
        "id": "prepared-claim"
      },
      "source": [
        "-->\n",
        "We can search for good deals by looking at players who produce many more runs than others with similar salaries. We can use this table to decide what players to pick and keep our total salary below the 40 million dollars Billy Beane had to work with. This can be done using what computer scientists call linear programming. This is not something we teach, but here are the position players selected with this approach:\n",
        "\n",
        "\n",
        "\n"
      ],
      "id": "prepared-claim"
    },
    {
      "cell_type": "code",
      "metadata": {
        "id": "m2CMbcGBLLf4"
      },
      "source": [
        "from mip import Model, xsum, maximize, BINARY"
      ],
      "id": "m2CMbcGBLLf4",
      "execution_count": null,
      "outputs": []
    },
    {
      "cell_type": "code",
      "metadata": {
        "id": "Dj_fTK-Nff5H"
      },
      "source": [
        "## Here p denotes predicted runs. p[i] denote the runs for the ith player.\n",
        "## Here w denotes the salary. w[i] denotes the salary for the ith player.\n",
        "## chronicle_delta_position column of the dataframe denotes whether the player plays on that corresponding position or not.\n",
        "p = player_salary_position[\"R_hat\"]\n",
        "w = player_salary_position[\"salary\"]\n",
        "\n",
        "c, I = 40000000, range(len(w))"
      ],
      "id": "Dj_fTK-Nff5H",
      "execution_count": null,
      "outputs": []
    },
    {
      "cell_type": "code",
      "metadata": {
        "colab": {
          "base_uri": "https://localhost:8080/"
        },
        "id": "VKjgsq0kfh9n",
        "outputId": "ef853edf-3fc9-45a9-d52e-54372753b3fb"
      },
      "source": [
        "m = Model(\"knapsack\")\n",
        "\n",
        "x = [m.add_var(var_type=BINARY) for i in I]\n",
        "\n",
        "m.objective = maximize(xsum(p[i] * x[i] for i in I))\n",
        "\n",
        "m += xsum(w[i] * x[i] for i in I) <= c\n",
        "\n",
        "\n",
        "for position in position_names:\n",
        "    m += xsum(player_salary_position[\"chronicle_delta_\" + str(position)][i]*x[i] for i in I) == 1\n",
        "    \n",
        "\n",
        "\n",
        "m.optimize()\n",
        "\n",
        "selected = [i for i in I if x[i].x >= 0.99]\n",
        "print(\"selected items: {}\".format(selected))\n"
      ],
      "id": "VKjgsq0kfh9n",
      "execution_count": null,
      "outputs": [
        {
          "output_type": "stream",
          "text": [
            "selected items: [1, 2, 4, 7, 9, 11, 30, 48, 57]\n"
          ],
          "name": "stdout"
        }
      ]
    },
    {
      "cell_type": "code",
      "metadata": {
        "colab": {
          "base_uri": "https://localhost:8080/",
          "height": 306
        },
        "id": "XwRK1hlrfkqn",
        "outputId": "e5d743b4-fd02-4817-c029-3039f3a18fd9"
      },
      "source": [
        "player_salary_position_clean=player_salary_position.drop([\"chronicle_delta_\" + str(position) for position in position_names],axis=1)\n",
        "columns_to_be_rounded = [\"HR\",\"BB\",\"singles\",\"doubles\",\"triples\",]\n",
        "for column in columns_to_be_rounded:\n",
        "    player_salary_position_clean[column] = round(player_salary_position_clean[column],1)\n",
        "player_salary_position_clean[\"most_played_position\"] = player_salary_position_clean[\"most_played_position\"].apply(lambda x :x.upper())\n",
        "selected_team=player_salary_position_clean.iloc[selected]\n",
        "selected_team"
      ],
      "id": "XwRK1hlrfkqn",
      "execution_count": null,
      "outputs": [
        {
          "output_type": "execute_result",
          "data": {
            "text/html": [
              "<div>\n",
              "<style scoped>\n",
              "    .dataframe tbody tr th:only-of-type {\n",
              "        vertical-align: middle;\n",
              "    }\n",
              "\n",
              "    .dataframe tbody tr th {\n",
              "        vertical-align: top;\n",
              "    }\n",
              "\n",
              "    .dataframe thead th {\n",
              "        text-align: right;\n",
              "    }\n",
              "</style>\n",
              "<table border=\"1\" class=\"dataframe\">\n",
              "  <thead>\n",
              "    <tr style=\"text-align: right;\">\n",
              "      <th></th>\n",
              "      <th>playerID</th>\n",
              "      <th>salary</th>\n",
              "      <th>nameFirst</th>\n",
              "      <th>nameLast</th>\n",
              "      <th>HR</th>\n",
              "      <th>BB</th>\n",
              "      <th>singles</th>\n",
              "      <th>doubles</th>\n",
              "      <th>triples</th>\n",
              "      <th>R_hat</th>\n",
              "      <th>most_played_position</th>\n",
              "    </tr>\n",
              "  </thead>\n",
              "  <tbody>\n",
              "    <tr>\n",
              "      <th>1</th>\n",
              "      <td>martied01</td>\n",
              "      <td>7086668</td>\n",
              "      <td>Edgar</td>\n",
              "      <td>Martinez</td>\n",
              "      <td>1.7</td>\n",
              "      <td>6.3</td>\n",
              "      <td>6.4</td>\n",
              "      <td>2.3</td>\n",
              "      <td>0.0</td>\n",
              "      <td>9.009369</td>\n",
              "      <td>DH</td>\n",
              "    </tr>\n",
              "    <tr>\n",
              "      <th>2</th>\n",
              "      <td>heltoto01</td>\n",
              "      <td>5000000</td>\n",
              "      <td>Todd</td>\n",
              "      <td>Helton</td>\n",
              "      <td>2.2</td>\n",
              "      <td>4.7</td>\n",
              "      <td>6.2</td>\n",
              "      <td>2.7</td>\n",
              "      <td>0.2</td>\n",
              "      <td>8.867603</td>\n",
              "      <td>1B</td>\n",
              "    </tr>\n",
              "    <tr>\n",
              "      <th>4</th>\n",
              "      <td>abreubo01</td>\n",
              "      <td>6333333</td>\n",
              "      <td>Bobby</td>\n",
              "      <td>Abreu</td>\n",
              "      <td>1.3</td>\n",
              "      <td>5.8</td>\n",
              "      <td>6.1</td>\n",
              "      <td>2.3</td>\n",
              "      <td>0.5</td>\n",
              "      <td>8.657520</td>\n",
              "      <td>RF</td>\n",
              "    </tr>\n",
              "    <tr>\n",
              "      <th>7</th>\n",
              "      <td>garcino01</td>\n",
              "      <td>9000000</td>\n",
              "      <td>Nomar</td>\n",
              "      <td>Garciaparra</td>\n",
              "      <td>1.7</td>\n",
              "      <td>2.8</td>\n",
              "      <td>7.3</td>\n",
              "      <td>2.6</td>\n",
              "      <td>0.4</td>\n",
              "      <td>8.561981</td>\n",
              "      <td>SS</td>\n",
              "    </tr>\n",
              "    <tr>\n",
              "      <th>9</th>\n",
              "      <td>berkmla01</td>\n",
              "      <td>500000</td>\n",
              "      <td>Lance</td>\n",
              "      <td>Berkman</td>\n",
              "      <td>1.9</td>\n",
              "      <td>5.2</td>\n",
              "      <td>5.5</td>\n",
              "      <td>2.8</td>\n",
              "      <td>0.2</td>\n",
              "      <td>8.548005</td>\n",
              "      <td>CF</td>\n",
              "    </tr>\n",
              "    <tr>\n",
              "      <th>11</th>\n",
              "      <td>cirilje01</td>\n",
              "      <td>6375000</td>\n",
              "      <td>Jeff</td>\n",
              "      <td>Cirillo</td>\n",
              "      <td>0.8</td>\n",
              "      <td>3.9</td>\n",
              "      <td>7.8</td>\n",
              "      <td>2.3</td>\n",
              "      <td>0.1</td>\n",
              "      <td>8.484743</td>\n",
              "      <td>3B</td>\n",
              "    </tr>\n",
              "    <tr>\n",
              "      <th>30</th>\n",
              "      <td>maynebr01</td>\n",
              "      <td>2500000</td>\n",
              "      <td>Brent</td>\n",
              "      <td>Mayne</td>\n",
              "      <td>0.4</td>\n",
              "      <td>3.9</td>\n",
              "      <td>7.6</td>\n",
              "      <td>2.1</td>\n",
              "      <td>0.0</td>\n",
              "      <td>7.886146</td>\n",
              "      <td>C</td>\n",
              "    </tr>\n",
              "    <tr>\n",
              "      <th>48</th>\n",
              "      <td>walketo04</td>\n",
              "      <td>2050000</td>\n",
              "      <td>Todd</td>\n",
              "      <td>Walker</td>\n",
              "      <td>0.8</td>\n",
              "      <td>3.3</td>\n",
              "      <td>7.0</td>\n",
              "      <td>2.3</td>\n",
              "      <td>0.2</td>\n",
              "      <td>7.703161</td>\n",
              "      <td>2B</td>\n",
              "    </tr>\n",
              "    <tr>\n",
              "      <th>57</th>\n",
              "      <td>millake01</td>\n",
              "      <td>900000</td>\n",
              "      <td>Kevin</td>\n",
              "      <td>Millar</td>\n",
              "      <td>1.4</td>\n",
              "      <td>3.8</td>\n",
              "      <td>6.1</td>\n",
              "      <td>2.3</td>\n",
              "      <td>0.4</td>\n",
              "      <td>7.634930</td>\n",
              "      <td>LF</td>\n",
              "    </tr>\n",
              "  </tbody>\n",
              "</table>\n",
              "</div>"
            ],
            "text/plain": [
              "     playerID   salary nameFirst     nameLast   HR   BB  singles  doubles  \\\n",
              "1   martied01  7086668     Edgar     Martinez  1.7  6.3      6.4      2.3   \n",
              "2   heltoto01  5000000      Todd       Helton  2.2  4.7      6.2      2.7   \n",
              "4   abreubo01  6333333     Bobby        Abreu  1.3  5.8      6.1      2.3   \n",
              "7   garcino01  9000000     Nomar  Garciaparra  1.7  2.8      7.3      2.6   \n",
              "9   berkmla01   500000     Lance      Berkman  1.9  5.2      5.5      2.8   \n",
              "11  cirilje01  6375000      Jeff      Cirillo  0.8  3.9      7.8      2.3   \n",
              "30  maynebr01  2500000     Brent        Mayne  0.4  3.9      7.6      2.1   \n",
              "48  walketo04  2050000      Todd       Walker  0.8  3.3      7.0      2.3   \n",
              "57  millake01   900000     Kevin       Millar  1.4  3.8      6.1      2.3   \n",
              "\n",
              "    triples     R_hat most_played_position  \n",
              "1       0.0  9.009369                   DH  \n",
              "2       0.2  8.867603                   1B  \n",
              "4       0.5  8.657520                   RF  \n",
              "7       0.4  8.561981                   SS  \n",
              "9       0.2  8.548005                   CF  \n",
              "11      0.1  8.484743                   3B  \n",
              "30      0.0  7.886146                    C  \n",
              "48      0.2  7.703161                   2B  \n",
              "57      0.4  7.634930                   LF  "
            ]
          },
          "metadata": {
            "tags": []
          },
          "execution_count": 28
        }
      ]
    },
    {
      "cell_type": "markdown",
      "metadata": {
        "id": "P6x-5Wypm6Er"
      },
      "source": [
        "We see that all these players have above average BB and most have above average HR rates, while the same is not true for singles. Here is a table with statistics standardized across players so that, for example, above average HR hitters have values above 0.\n",
        "\n",
        "\n",
        "\n",
        "\n",
        "\n",
        "\n",
        "\n",
        "The same pattern arises when we look at the top performers: batting averages go down for most of the top performers.\n",
        "\n",
        "\n",
        "\n",
        "But these are not rookies! Also, look at what happens to the worst performers of 2013:\n",
        "\n",
        "\n",
        "\n",
        "Their batting averages mostly go up! Is this some sort of reverse sophomore slump? It is not. There is no such thing as the sophomore slump. This is all explained with a simple statistical fact: the correlation for performance in two separate years is high, but not perfect:\n",
        "\n",
        "\n",
        "\n",
        "The correlation is **r cor(two_years$\"2013\",two_years$\"2014\")** and\n",
        "the data look very much like a bivariate normal distribution, which means we predict a 2014 batting average $Y$ for any given player that had a 2013 batting average $X$ with:\n",
        "\n",
        "$$ \\frac{Y - .255}{.032} = 0.46 \\left( \\frac{X - .261}{.023}\\right) $$\n",
        "\n",
        "Because the correlation is not perfect, regression tells us that, on average, expect high performers from 2013 to do a bit worse in 2014. It's not a jinx; it's just due to chance. The ROY are selected from the top values of $X$ so it is expected that $Y$ will regress to the mean.\n",
        "\n",
        "\n"
      ],
      "id": "P6x-5Wypm6Er"
    },
    {
      "cell_type": "markdown",
      "metadata": {
        "id": "2yRnCuzWGeQy"
      },
      "source": [
        "# Your Turn\n",
        "\n",
        "In this code that follows you can change the model and call another model. Here is an example of calling a decition tree in Python.\n",
        "\n"
      ],
      "id": "2yRnCuzWGeQy"
    },
    {
      "cell_type": "code",
      "metadata": {
        "id": "JmiBoxPIG4P8"
      },
      "source": [
        "# Example\n",
        "reg2 = DecisionTreeRegressor().fit(team_features_2, team_runs)\n",
        "player_salary_position[\"R_hat\"]=reg2.predict(player_salary_position[[\"HR\",\"BB\",\"singles\",\"doubles\",\"triples\"]])\n",
        "\n",
        "\n",
        "# Update player info for new predictions\n",
        "p2 = player_salary_position[\"R_hat\"]\n",
        "w2 = player_salary_position[\"salary\"]\n",
        "\n",
        "#players_features_save.head()\n",
        "#reg2.predict(players_features_save)\n",
        "#players_features.head()"
      ],
      "id": "JmiBoxPIG4P8",
      "execution_count": null,
      "outputs": []
    },
    {
      "cell_type": "code",
      "metadata": {
        "colab": {
          "base_uri": "https://localhost:8080/",
          "height": 540
        },
        "id": "m-zuxNg1I0RY",
        "outputId": "149cbd4f-5ffa-45ac-e927-4f39b2a00a6d"
      },
      "source": [
        "# Rerun optimizer\n",
        "m2 = Model(\"knapsack\")\n",
        "\n",
        "x2 = [m2.add_var(var_type=BINARY) for i in I]\n",
        "\n",
        "m2.objective = maximize(xsum(p2[i] * x[i] for i in I))\n",
        "\n",
        "m2 += xsum(w2[i] * x[i] for i in I) <= c\n",
        "\n",
        "\n",
        "for position in position_names:\n",
        "    m2 += xsum(player_salary_position[\"chronicle_delta_\" + str(position)][i]*x[i] for i in I) == 1\n",
        "    \n",
        "\n",
        "\n",
        "m2.optimize()\n",
        "\n",
        "selected = [i for i in I if x[i].x >= 0.99]\n",
        "print(\"selected items: {}\".format(selected))\n"
      ],
      "id": "m-zuxNg1I0RY",
      "execution_count": null,
      "outputs": [
        {
          "output_type": "stream",
          "text": [
            "selected items: [1, 2, 4, 7, 9, 11, 30, 48, 57]\n"
          ],
          "name": "stdout"
        }
      ]
    },
    {
      "cell_type": "code",
      "metadata": {
        "id": "jpYrHcvbI908",
        "outputId": "7594c986-255c-4845-be1f-b94d1f763dc6"
      },
      "source": [
        "# Display new team\n",
        "player_salary_position_clean=player_salary_position.drop([\"chronicle_delta_\" + str(position) for position in position_names],axis=1)\n",
        "columns_to_be_rounded = [\"HR\",\"BB\",\"singles\",\"doubles\",\"triples\",]\n",
        "for column in columns_to_be_rounded:\n",
        "    player_salary_position_clean[column] = round(player_salary_position_clean[column],1)\n",
        "player_salary_position_clean[\"most_played_position\"] = player_salary_position_clean[\"most_played_position\"].apply(lambda x :x.upper())\n",
        "selected_team=player_salary_position_clean.iloc[selected]\n",
        "selected_team"
      ],
      "id": "jpYrHcvbI908",
      "execution_count": null,
      "outputs": [
        {
          "output_type": "execute_result",
          "data": {
            "text/html": [
              "<div>\n",
              "<style scoped>\n",
              "    .dataframe tbody tr th:only-of-type {\n",
              "        vertical-align: middle;\n",
              "    }\n",
              "\n",
              "    .dataframe tbody tr th {\n",
              "        vertical-align: top;\n",
              "    }\n",
              "\n",
              "    .dataframe thead th {\n",
              "        text-align: right;\n",
              "    }\n",
              "</style>\n",
              "<table border=\"1\" class=\"dataframe\">\n",
              "  <thead>\n",
              "    <tr style=\"text-align: right;\">\n",
              "      <th></th>\n",
              "      <th>playerID</th>\n",
              "      <th>salary</th>\n",
              "      <th>nameFirst</th>\n",
              "      <th>nameLast</th>\n",
              "      <th>HR</th>\n",
              "      <th>BB</th>\n",
              "      <th>singles</th>\n",
              "      <th>doubles</th>\n",
              "      <th>triples</th>\n",
              "      <th>R_hat</th>\n",
              "      <th>most_played_position</th>\n",
              "    </tr>\n",
              "  </thead>\n",
              "  <tbody>\n",
              "    <tr>\n",
              "      <th>1</th>\n",
              "      <td>martied01</td>\n",
              "      <td>7086668</td>\n",
              "      <td>Edgar</td>\n",
              "      <td>Martinez</td>\n",
              "      <td>1.7</td>\n",
              "      <td>6.3</td>\n",
              "      <td>6.4</td>\n",
              "      <td>2.3</td>\n",
              "      <td>0.0</td>\n",
              "      <td>3.512346</td>\n",
              "      <td>DH</td>\n",
              "    </tr>\n",
              "    <tr>\n",
              "      <th>2</th>\n",
              "      <td>heltoto01</td>\n",
              "      <td>5000000</td>\n",
              "      <td>Todd</td>\n",
              "      <td>Helton</td>\n",
              "      <td>2.2</td>\n",
              "      <td>4.7</td>\n",
              "      <td>6.2</td>\n",
              "      <td>2.7</td>\n",
              "      <td>0.2</td>\n",
              "      <td>3.512346</td>\n",
              "      <td>1B</td>\n",
              "    </tr>\n",
              "    <tr>\n",
              "      <th>4</th>\n",
              "      <td>abreubo01</td>\n",
              "      <td>6333333</td>\n",
              "      <td>Bobby</td>\n",
              "      <td>Abreu</td>\n",
              "      <td>1.3</td>\n",
              "      <td>5.8</td>\n",
              "      <td>6.1</td>\n",
              "      <td>2.3</td>\n",
              "      <td>0.5</td>\n",
              "      <td>3.512346</td>\n",
              "      <td>RF</td>\n",
              "    </tr>\n",
              "    <tr>\n",
              "      <th>7</th>\n",
              "      <td>garcino01</td>\n",
              "      <td>9000000</td>\n",
              "      <td>Nomar</td>\n",
              "      <td>Garciaparra</td>\n",
              "      <td>1.7</td>\n",
              "      <td>2.8</td>\n",
              "      <td>7.3</td>\n",
              "      <td>2.6</td>\n",
              "      <td>0.4</td>\n",
              "      <td>3.512346</td>\n",
              "      <td>SS</td>\n",
              "    </tr>\n",
              "    <tr>\n",
              "      <th>9</th>\n",
              "      <td>berkmla01</td>\n",
              "      <td>500000</td>\n",
              "      <td>Lance</td>\n",
              "      <td>Berkman</td>\n",
              "      <td>1.9</td>\n",
              "      <td>5.2</td>\n",
              "      <td>5.5</td>\n",
              "      <td>2.8</td>\n",
              "      <td>0.2</td>\n",
              "      <td>3.512346</td>\n",
              "      <td>CF</td>\n",
              "    </tr>\n",
              "    <tr>\n",
              "      <th>11</th>\n",
              "      <td>cirilje01</td>\n",
              "      <td>6375000</td>\n",
              "      <td>Jeff</td>\n",
              "      <td>Cirillo</td>\n",
              "      <td>0.8</td>\n",
              "      <td>3.9</td>\n",
              "      <td>7.8</td>\n",
              "      <td>2.3</td>\n",
              "      <td>0.1</td>\n",
              "      <td>3.512346</td>\n",
              "      <td>3B</td>\n",
              "    </tr>\n",
              "    <tr>\n",
              "      <th>30</th>\n",
              "      <td>maynebr01</td>\n",
              "      <td>2500000</td>\n",
              "      <td>Brent</td>\n",
              "      <td>Mayne</td>\n",
              "      <td>0.4</td>\n",
              "      <td>3.9</td>\n",
              "      <td>7.6</td>\n",
              "      <td>2.1</td>\n",
              "      <td>0.0</td>\n",
              "      <td>3.512346</td>\n",
              "      <td>C</td>\n",
              "    </tr>\n",
              "    <tr>\n",
              "      <th>48</th>\n",
              "      <td>walketo04</td>\n",
              "      <td>2050000</td>\n",
              "      <td>Todd</td>\n",
              "      <td>Walker</td>\n",
              "      <td>0.8</td>\n",
              "      <td>3.3</td>\n",
              "      <td>7.0</td>\n",
              "      <td>2.3</td>\n",
              "      <td>0.2</td>\n",
              "      <td>3.512346</td>\n",
              "      <td>2B</td>\n",
              "    </tr>\n",
              "    <tr>\n",
              "      <th>57</th>\n",
              "      <td>millake01</td>\n",
              "      <td>900000</td>\n",
              "      <td>Kevin</td>\n",
              "      <td>Millar</td>\n",
              "      <td>1.4</td>\n",
              "      <td>3.8</td>\n",
              "      <td>6.1</td>\n",
              "      <td>2.3</td>\n",
              "      <td>0.4</td>\n",
              "      <td>3.512346</td>\n",
              "      <td>LF</td>\n",
              "    </tr>\n",
              "  </tbody>\n",
              "</table>\n",
              "</div>"
            ],
            "text/plain": [
              "     playerID   salary nameFirst     nameLast   HR   BB  singles  doubles  \\\n",
              "1   martied01  7086668     Edgar     Martinez  1.7  6.3      6.4      2.3   \n",
              "2   heltoto01  5000000      Todd       Helton  2.2  4.7      6.2      2.7   \n",
              "4   abreubo01  6333333     Bobby        Abreu  1.3  5.8      6.1      2.3   \n",
              "7   garcino01  9000000     Nomar  Garciaparra  1.7  2.8      7.3      2.6   \n",
              "9   berkmla01   500000     Lance      Berkman  1.9  5.2      5.5      2.8   \n",
              "11  cirilje01  6375000      Jeff      Cirillo  0.8  3.9      7.8      2.3   \n",
              "30  maynebr01  2500000     Brent        Mayne  0.4  3.9      7.6      2.1   \n",
              "48  walketo04  2050000      Todd       Walker  0.8  3.3      7.0      2.3   \n",
              "57  millake01   900000     Kevin       Millar  1.4  3.8      6.1      2.3   \n",
              "\n",
              "    triples     R_hat most_played_position  \n",
              "1       0.0  3.512346                   DH  \n",
              "2       0.2  3.512346                   1B  \n",
              "4       0.5  3.512346                   RF  \n",
              "7       0.4  3.512346                   SS  \n",
              "9       0.2  3.512346                   CF  \n",
              "11      0.1  3.512346                   3B  \n",
              "30      0.0  3.512346                    C  \n",
              "48      0.2  3.512346                   2B  \n",
              "57      0.4  3.512346                   LF  "
            ]
          },
          "metadata": {
            "tags": []
          },
          "execution_count": 33
        }
      ]
    },
    {
      "cell_type": "code",
      "metadata": {
        "id": "dmD3ZLMPYwZw"
      },
      "source": [
        ""
      ],
      "id": "dmD3ZLMPYwZw",
      "execution_count": null,
      "outputs": []
    }
  ]
}