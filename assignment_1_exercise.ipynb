{
  "nbformat": 4,
  "nbformat_minor": 5,
  "metadata": {
    "colab": {
      "name": "assignment_1_exercise.ipynb",
      "provenance": [],
      "include_colab_link": true
    },
    "kernelspec": {
      "display_name": "Python 3",
      "language": "python",
      "name": "python3"
    },
    "language_info": {
      "codemirror_mode": {
        "name": "ipython",
        "version": 3
      },
      "file_extension": ".py",
      "mimetype": "text/x-python",
      "name": "python",
      "nbconvert_exporter": "python",
      "pygments_lexer": "ipython3",
      "version": "3.7.3"
    }
  },
  "cells": [
    {
      "cell_type": "markdown",
      "metadata": {
        "id": "view-in-github",
        "colab_type": "text"
      },
      "source": [
        "<a href=\"https://colab.research.google.com/github/tleitch/BDML/blob/main/assignment_1_exercise.ipynb\" target=\"_parent\"><img src=\"https://colab.research.google.com/assets/colab-badge.svg\" alt=\"Open In Colab\"/></a>"
      ]
    },
    {
      "cell_type": "markdown",
      "metadata": {
        "id": "SCsg_PHYLLfl"
      },
      "source": [
        "## Build a model to create a metric for judging team based on team level information ##"
      ],
      "id": "SCsg_PHYLLfl"
    },
    {
      "cell_type": "code",
      "metadata": {
        "colab": {
          "base_uri": "https://localhost:8080/"
        },
        "id": "k06xxSRiMFEx",
        "outputId": "1f5a34fe-4b95-4bd1-a243-fd781c3532a3"
      },
      "source": [
        "import pandas as pd\n",
        "pd.options.mode.chained_assignment = None  # default='warn'\n",
        "!pip install mip\n",
        "from mip import Model, xsum, maximize, BINARY"
      ],
      "id": "k06xxSRiMFEx",
      "execution_count": 102,
      "outputs": [
        {
          "output_type": "stream",
          "text": [
            "Requirement already satisfied: mip in /usr/local/lib/python3.7/dist-packages (1.13.0)\n",
            "Requirement already satisfied: cffi in /usr/local/lib/python3.7/dist-packages (from mip) (1.14.5)\n",
            "Requirement already satisfied: pycparser in /usr/local/lib/python3.7/dist-packages (from cffi->mip) (2.20)\n"
          ],
          "name": "stdout"
        }
      ]
    },
    {
      "cell_type": "code",
      "metadata": {
        "id": "4jkAA9rxLLfm"
      },
      "source": [
        "teams = pd.read_csv(\"https://raw.githubusercontent.com/tleitch/BDML/main/data/teams.csv\")\n",
        "teams = teams[(teams.yearID >=1961) & (teams.yearID <= 2001)]"
      ],
      "id": "4jkAA9rxLLfm",
      "execution_count": 103,
      "outputs": []
    },
    {
      "cell_type": "markdown",
      "metadata": {
        "id": "IlLUUVtPLLfn"
      },
      "source": [
        "## Extracting features for teams ##"
      ],
      "id": "IlLUUVtPLLfn"
    },
    {
      "cell_type": "code",
      "metadata": {
        "id": "uklUnuSSLLfo"
      },
      "source": [
        "teams[\"BB\"] = teams[\"BB\"]/teams[\"G\"]\n",
        "teams[\"singles\"] = (teams[\"H\"] - teams[\"X2B\"] - teams[\"X3B\"] - teams[\"HR\"])/teams[\"G\"]\n",
        "teams[\"doubles\"] =  teams[\"X2B\"]/teams[\"G\"]\n",
        "teams[\"triples\"] = teams[\"X3B\"]/teams[\"G\"]\n",
        "teams[\"HR\"] = teams[\"HR\"]/teams[\"G\"]\n",
        "teams[\"R\"] = teams[\"R\"]/teams[\"G\"]"
      ],
      "id": "uklUnuSSLLfo",
      "execution_count": 104,
      "outputs": []
    },
    {
      "cell_type": "code",
      "metadata": {
        "id": "7wY_igBwLLfp",
        "colab": {
          "base_uri": "https://localhost:8080/"
        },
        "outputId": "5528c76b-e09a-4586-a5f1-db70c03cc2e9"
      },
      "source": [
        "teams.shape"
      ],
      "id": "7wY_igBwLLfp",
      "execution_count": 105,
      "outputs": [
        {
          "output_type": "execute_result",
          "data": {
            "text/plain": [
              "(1026, 52)"
            ]
          },
          "metadata": {
            "tags": []
          },
          "execution_count": 105
        }
      ]
    },
    {
      "cell_type": "markdown",
      "metadata": {
        "id": "GoPubepeLLfq"
      },
      "source": [
        "## Model building ##"
      ],
      "id": "GoPubepeLLfq"
    },
    {
      "cell_type": "code",
      "metadata": {
        "id": "C23e53W2LLfr"
      },
      "source": [
        "team_features = teams[[\"BB\",\"singles\",\"doubles\",\"triples\",\"HR\"]]\n",
        "team_runs = teams[\"R\"]\n",
        "\n"
      ],
      "id": "C23e53W2LLfr",
      "execution_count": 106,
      "outputs": []
    },
    {
      "cell_type": "markdown",
      "metadata": {
        "id": "5S2y79NCPAOd"
      },
      "source": [
        "# **## Your code here ##**\n",
        "Change the LinearRegression() to use a different model from scikit-learn. Remember you need to load the model. Links to other model's documentation is provided below. "
      ],
      "id": "5S2y79NCPAOd"
    },
    {
      "cell_type": "code",
      "metadata": {
        "id": "3RjG7kcmOubw",
        "outputId": "044ec73f-8bdc-467c-a3f8-2294942c16da",
        "colab": {
          "base_uri": "https://localhost:8080/"
        }
      },
      "source": [
        "# Change code here \n",
        "from sklearn.linear_model import LinearRegression\n",
        "model = LinearRegression()\n",
        "model.fit(team_features, team_runs)\n",
        "#^^^^^^^^^^^^^^^^^"
      ],
      "id": "3RjG7kcmOubw",
      "execution_count": 107,
      "outputs": [
        {
          "output_type": "execute_result",
          "data": {
            "text/plain": [
              "LinearRegression(copy_X=True, fit_intercept=True, n_jobs=None, normalize=False)"
            ]
          },
          "metadata": {
            "tags": []
          },
          "execution_count": 107
        }
      ]
    },
    {
      "cell_type": "markdown",
      "metadata": {
        "id": "zHqKYxsILwgR"
      },
      "source": [
        "Other possible models which can be built :\n",
        "\n",
        "randomforest : https://scikit-learn.org/stable/modules/generated/sklearn.ensemble.RandomForestRegressor.html \n",
        "\n",
        "Gradient boosting : https://scikit-learn.org/stable/modules/generated/sklearn.ensemble.GradientBoostingRegressor.html \n",
        "\n",
        "support vector machine : https://scikit-learn.org/stable/auto_examples/svm/plot_svm_regression.html \n",
        "\n",
        "kNN fit : https://scikit-learn.org/stable/modules/generated/sklearn.neighbors.KNeighborsRegressor.html"
      ],
      "id": "zHqKYxsILwgR"
    },
    {
      "cell_type": "markdown",
      "metadata": {
        "id": "pUyXiw5rLLfs"
      },
      "source": [
        "Instead of using batting average, or just number of HR,as a measure of picking players, we can use our fitted model to form a metric that relates more directly to run production.\n",
        "\n",
        "Specifically, to define a metric for player A, we imagine a team made up of players just like player A and use our fitted regression model to predict how many runs this team would produce "
      ],
      "id": "pUyXiw5rLLfs"
    },
    {
      "cell_type": "markdown",
      "metadata": {
        "id": "1_UY0TEQLLfs"
      },
      "source": [
        "To define a player-specific metric, we have a bit more work to do. A challenge here is that we derived the metric for teams, based on team-level summary statistics. \n",
        "\n",
        "For example, the HR value that is entered into the equation is HR per game for the entire team "
      ],
      "id": "1_UY0TEQLLfs"
    },
    {
      "cell_type": "markdown",
      "metadata": {
        "id": "Qv8-kxTOLLft"
      },
      "source": [
        "We compute the per-plate-appearance rates for players available in 2002 on data from 1997-2001. \n",
        "To avoid small sample artifacts, we filter players with less than 1000 plate appearances per year.\n",
        "\n",
        "\n",
        "Reference : https://rafalab.github.io/dsbook/linear-models.html#linear-regression-in-the-tidyverse"
      ],
      "id": "Qv8-kxTOLLft"
    },
    {
      "cell_type": "code",
      "metadata": {
        "id": "bs92ayvZLLft"
      },
      "source": [
        "batting=pd.read_csv(\"https://raw.githubusercontent.com/tleitch/BDML/main/data/Batting.csv\")"
      ],
      "id": "bs92ayvZLLft",
      "execution_count": 108,
      "outputs": []
    },
    {
      "cell_type": "code",
      "metadata": {
        "id": "ktNJIjZaLLft"
      },
      "source": [
        "def extract_pa_per_game(df):\n",
        "    \n",
        "    pa_per_game = (df['AB'].sum() + df[\"BB\"].sum())/df[\"G\"].max()\n",
        "    \n",
        "    return pa_per_game\n"
      ],
      "id": "ktNJIjZaLLft",
      "execution_count": 109,
      "outputs": []
    },
    {
      "cell_type": "code",
      "metadata": {
        "id": "R1V4oI7dLLfu"
      },
      "source": [
        "pa_per_game=batting[batting.yearID ==2002].groupby('teamID').apply(extract_pa_per_game)\n",
        "average_pa_teamwise = pa_per_game.mean()"
      ],
      "id": "R1V4oI7dLLfu",
      "execution_count": 110,
      "outputs": []
    },
    {
      "cell_type": "code",
      "metadata": {
        "id": "kq-c55A1LLfu",
        "outputId": "4ad6b971-6300-47e0-d4de-ea3a3a4033ce",
        "colab": {
          "base_uri": "https://localhost:8080/"
        }
      },
      "source": [
        "average_pa_teamwise"
      ],
      "id": "kq-c55A1LLfu",
      "execution_count": 111,
      "outputs": [
        {
          "output_type": "execute_result",
          "data": {
            "text/plain": [
              "38.74656866970645"
            ]
          },
          "metadata": {
            "tags": []
          },
          "execution_count": 111
        }
      ]
    },
    {
      "cell_type": "code",
      "metadata": {
        "id": "DUbmNOlnLLfu"
      },
      "source": [
        "batting[\"PA\"] = batting[\"AB\"] + batting[\"BB\"]\n",
        "batting[\"singles\"] = batting[\"H\"] - batting[\"X2B\"] - batting[\"X3B\"] - batting[\"HR\"]"
      ],
      "id": "DUbmNOlnLLfu",
      "execution_count": 112,
      "outputs": []
    },
    {
      "cell_type": "code",
      "metadata": {
        "id": "usXPsxWTLLfv"
      },
      "source": [
        "players = batting[(batting.yearID >= 1997) & (batting.yearID <=2001)].groupby('playerID').agg(PA_sum = (\"PA\",sum),HR_sum=(\"HR\",sum),BB_sum=(\"BB\",sum),singles_sum=(\"singles\",sum),doubles_sum=(\"X2B\",sum),triples_sum=(\"X3B\",sum),AB_sum=(\"AB\",sum),H_sum=(\"H\",sum))\n",
        "players[\"Average_PA\"] = players[\"PA_sum\"]/average_pa_teamwise\n",
        "players[\"HR\"] = players[\"HR_sum\"]/players[\"Average_PA\"]\n",
        "players[\"BB\"] = players[\"BB_sum\"]/players[\"Average_PA\"]\n",
        "players[\"singles\"] = players[\"singles_sum\"]/players[\"Average_PA\"]\n",
        "players[\"doubles\"] = players[\"doubles_sum\"]/players['Average_PA']\n",
        "players[\"triples\"] = players[\"triples_sum\"]/players[\"Average_PA\"]\n",
        "players[\"Average\"] = players[\"H_sum\"]/players[\"AB_sum\"]\n",
        "players = players[players.PA_sum >= 1000]"
      ],
      "id": "usXPsxWTLLfv",
      "execution_count": 113,
      "outputs": []
    },
    {
      "cell_type": "code",
      "metadata": {
        "id": "Ma1zmdlWLLfv",
        "outputId": "154e50b7-c629-4f03-ef33-169a6b63d686",
        "colab": {
          "base_uri": "https://localhost:8080/",
          "height": 227
        }
      },
      "source": [
        "players.head()"
      ],
      "id": "Ma1zmdlWLLfv",
      "execution_count": 114,
      "outputs": [
        {
          "output_type": "execute_result",
          "data": {
            "text/html": [
              "<div>\n",
              "<style scoped>\n",
              "    .dataframe tbody tr th:only-of-type {\n",
              "        vertical-align: middle;\n",
              "    }\n",
              "\n",
              "    .dataframe tbody tr th {\n",
              "        vertical-align: top;\n",
              "    }\n",
              "\n",
              "    .dataframe thead th {\n",
              "        text-align: right;\n",
              "    }\n",
              "</style>\n",
              "<table border=\"1\" class=\"dataframe\">\n",
              "  <thead>\n",
              "    <tr style=\"text-align: right;\">\n",
              "      <th></th>\n",
              "      <th>PA_sum</th>\n",
              "      <th>HR_sum</th>\n",
              "      <th>BB_sum</th>\n",
              "      <th>singles_sum</th>\n",
              "      <th>doubles_sum</th>\n",
              "      <th>triples_sum</th>\n",
              "      <th>AB_sum</th>\n",
              "      <th>H_sum</th>\n",
              "      <th>Average_PA</th>\n",
              "      <th>HR</th>\n",
              "      <th>BB</th>\n",
              "      <th>singles</th>\n",
              "      <th>doubles</th>\n",
              "      <th>triples</th>\n",
              "      <th>Average</th>\n",
              "    </tr>\n",
              "    <tr>\n",
              "      <th>playerID</th>\n",
              "      <th></th>\n",
              "      <th></th>\n",
              "      <th></th>\n",
              "      <th></th>\n",
              "      <th></th>\n",
              "      <th></th>\n",
              "      <th></th>\n",
              "      <th></th>\n",
              "      <th></th>\n",
              "      <th></th>\n",
              "      <th></th>\n",
              "      <th></th>\n",
              "      <th></th>\n",
              "      <th></th>\n",
              "      <th></th>\n",
              "    </tr>\n",
              "  </thead>\n",
              "  <tbody>\n",
              "    <tr>\n",
              "      <th>abreubo01</th>\n",
              "      <td>2815</td>\n",
              "      <td>96</td>\n",
              "      <td>420</td>\n",
              "      <td>444</td>\n",
              "      <td>164</td>\n",
              "      <td>33</td>\n",
              "      <td>2395</td>\n",
              "      <td>737</td>\n",
              "      <td>72.651595</td>\n",
              "      <td>1.321375</td>\n",
              "      <td>5.781016</td>\n",
              "      <td>6.111359</td>\n",
              "      <td>2.257349</td>\n",
              "      <td>0.454223</td>\n",
              "      <td>0.307724</td>\n",
              "    </tr>\n",
              "    <tr>\n",
              "      <th>agbaybe01</th>\n",
              "      <td>1060</td>\n",
              "      <td>35</td>\n",
              "      <td>123</td>\n",
              "      <td>172</td>\n",
              "      <td>51</td>\n",
              "      <td>6</td>\n",
              "      <td>937</td>\n",
              "      <td>264</td>\n",
              "      <td>27.357261</td>\n",
              "      <td>1.279368</td>\n",
              "      <td>4.496064</td>\n",
              "      <td>6.287179</td>\n",
              "      <td>1.864222</td>\n",
              "      <td>0.219320</td>\n",
              "      <td>0.281750</td>\n",
              "    </tr>\n",
              "    <tr>\n",
              "      <th>alfoned01</th>\n",
              "      <td>3063</td>\n",
              "      <td>96</td>\n",
              "      <td>359</td>\n",
              "      <td>535</td>\n",
              "      <td>158</td>\n",
              "      <td>7</td>\n",
              "      <td>2704</td>\n",
              "      <td>796</td>\n",
              "      <td>79.052161</td>\n",
              "      <td>1.214388</td>\n",
              "      <td>4.541305</td>\n",
              "      <td>6.767683</td>\n",
              "      <td>1.998680</td>\n",
              "      <td>0.088549</td>\n",
              "      <td>0.294379</td>\n",
              "    </tr>\n",
              "    <tr>\n",
              "      <th>alicelu01</th>\n",
              "      <td>1954</td>\n",
              "      <td>24</td>\n",
              "      <td>216</td>\n",
              "      <td>339</td>\n",
              "      <td>82</td>\n",
              "      <td>22</td>\n",
              "      <td>1738</td>\n",
              "      <td>467</td>\n",
              "      <td>50.430272</td>\n",
              "      <td>0.475905</td>\n",
              "      <td>4.283142</td>\n",
              "      <td>6.722153</td>\n",
              "      <td>1.626007</td>\n",
              "      <td>0.436246</td>\n",
              "      <td>0.268700</td>\n",
              "    </tr>\n",
              "    <tr>\n",
              "      <th>alomaro01</th>\n",
              "      <td>3090</td>\n",
              "      <td>91</td>\n",
              "      <td>342</td>\n",
              "      <td>583</td>\n",
              "      <td>173</td>\n",
              "      <td>20</td>\n",
              "      <td>2748</td>\n",
              "      <td>867</td>\n",
              "      <td>79.748997</td>\n",
              "      <td>1.141080</td>\n",
              "      <td>4.288455</td>\n",
              "      <td>7.310437</td>\n",
              "      <td>2.169306</td>\n",
              "      <td>0.250787</td>\n",
              "      <td>0.315502</td>\n",
              "    </tr>\n",
              "  </tbody>\n",
              "</table>\n",
              "</div>"
            ],
            "text/plain": [
              "           PA_sum  HR_sum  BB_sum  ...   doubles   triples   Average\n",
              "playerID                           ...                              \n",
              "abreubo01    2815      96     420  ...  2.257349  0.454223  0.307724\n",
              "agbaybe01    1060      35     123  ...  1.864222  0.219320  0.281750\n",
              "alfoned01    3063      96     359  ...  1.998680  0.088549  0.294379\n",
              "alicelu01    1954      24     216  ...  1.626007  0.436246  0.268700\n",
              "alomaro01    3090      91     342  ...  2.169306  0.250787  0.315502\n",
              "\n",
              "[5 rows x 15 columns]"
            ]
          },
          "metadata": {
            "tags": []
          },
          "execution_count": 114
        }
      ]
    },
    {
      "cell_type": "code",
      "metadata": {
        "id": "qksyiDWULLfv",
        "outputId": "67c99dc6-6959-486f-e5f5-5f821f135037",
        "colab": {
          "base_uri": "https://localhost:8080/",
          "height": 227
        }
      },
      "source": [
        "players_features = players[[\"HR\",\"BB\",\"singles\",\"doubles\",\"triples\"]]\n",
        "players_features.head()"
      ],
      "id": "qksyiDWULLfv",
      "execution_count": 115,
      "outputs": [
        {
          "output_type": "execute_result",
          "data": {
            "text/html": [
              "<div>\n",
              "<style scoped>\n",
              "    .dataframe tbody tr th:only-of-type {\n",
              "        vertical-align: middle;\n",
              "    }\n",
              "\n",
              "    .dataframe tbody tr th {\n",
              "        vertical-align: top;\n",
              "    }\n",
              "\n",
              "    .dataframe thead th {\n",
              "        text-align: right;\n",
              "    }\n",
              "</style>\n",
              "<table border=\"1\" class=\"dataframe\">\n",
              "  <thead>\n",
              "    <tr style=\"text-align: right;\">\n",
              "      <th></th>\n",
              "      <th>HR</th>\n",
              "      <th>BB</th>\n",
              "      <th>singles</th>\n",
              "      <th>doubles</th>\n",
              "      <th>triples</th>\n",
              "    </tr>\n",
              "    <tr>\n",
              "      <th>playerID</th>\n",
              "      <th></th>\n",
              "      <th></th>\n",
              "      <th></th>\n",
              "      <th></th>\n",
              "      <th></th>\n",
              "    </tr>\n",
              "  </thead>\n",
              "  <tbody>\n",
              "    <tr>\n",
              "      <th>abreubo01</th>\n",
              "      <td>1.321375</td>\n",
              "      <td>5.781016</td>\n",
              "      <td>6.111359</td>\n",
              "      <td>2.257349</td>\n",
              "      <td>0.454223</td>\n",
              "    </tr>\n",
              "    <tr>\n",
              "      <th>agbaybe01</th>\n",
              "      <td>1.279368</td>\n",
              "      <td>4.496064</td>\n",
              "      <td>6.287179</td>\n",
              "      <td>1.864222</td>\n",
              "      <td>0.219320</td>\n",
              "    </tr>\n",
              "    <tr>\n",
              "      <th>alfoned01</th>\n",
              "      <td>1.214388</td>\n",
              "      <td>4.541305</td>\n",
              "      <td>6.767683</td>\n",
              "      <td>1.998680</td>\n",
              "      <td>0.088549</td>\n",
              "    </tr>\n",
              "    <tr>\n",
              "      <th>alicelu01</th>\n",
              "      <td>0.475905</td>\n",
              "      <td>4.283142</td>\n",
              "      <td>6.722153</td>\n",
              "      <td>1.626007</td>\n",
              "      <td>0.436246</td>\n",
              "    </tr>\n",
              "    <tr>\n",
              "      <th>alomaro01</th>\n",
              "      <td>1.141080</td>\n",
              "      <td>4.288455</td>\n",
              "      <td>7.310437</td>\n",
              "      <td>2.169306</td>\n",
              "      <td>0.250787</td>\n",
              "    </tr>\n",
              "  </tbody>\n",
              "</table>\n",
              "</div>"
            ],
            "text/plain": [
              "                 HR        BB   singles   doubles   triples\n",
              "playerID                                                   \n",
              "abreubo01  1.321375  5.781016  6.111359  2.257349  0.454223\n",
              "agbaybe01  1.279368  4.496064  6.287179  1.864222  0.219320\n",
              "alfoned01  1.214388  4.541305  6.767683  1.998680  0.088549\n",
              "alicelu01  0.475905  4.283142  6.722153  1.626007  0.436246\n",
              "alomaro01  1.141080  4.288455  7.310437  2.169306  0.250787"
            ]
          },
          "metadata": {
            "tags": []
          },
          "execution_count": 115
        }
      ]
    },
    {
      "cell_type": "code",
      "metadata": {
        "id": "JsE7cDe9LLfw",
        "outputId": "50435f82-281c-4edf-8fe6-3fdd146d4381",
        "colab": {
          "base_uri": "https://localhost:8080/",
          "height": 227
        }
      },
      "source": [
        "players_features[\"R_hat\"]=(model.predict(players_features))\n",
        "players_features.head()"
      ],
      "id": "JsE7cDe9LLfw",
      "execution_count": 116,
      "outputs": [
        {
          "output_type": "execute_result",
          "data": {
            "text/html": [
              "<div>\n",
              "<style scoped>\n",
              "    .dataframe tbody tr th:only-of-type {\n",
              "        vertical-align: middle;\n",
              "    }\n",
              "\n",
              "    .dataframe tbody tr th {\n",
              "        vertical-align: top;\n",
              "    }\n",
              "\n",
              "    .dataframe thead th {\n",
              "        text-align: right;\n",
              "    }\n",
              "</style>\n",
              "<table border=\"1\" class=\"dataframe\">\n",
              "  <thead>\n",
              "    <tr style=\"text-align: right;\">\n",
              "      <th></th>\n",
              "      <th>HR</th>\n",
              "      <th>BB</th>\n",
              "      <th>singles</th>\n",
              "      <th>doubles</th>\n",
              "      <th>triples</th>\n",
              "      <th>R_hat</th>\n",
              "    </tr>\n",
              "    <tr>\n",
              "      <th>playerID</th>\n",
              "      <th></th>\n",
              "      <th></th>\n",
              "      <th></th>\n",
              "      <th></th>\n",
              "      <th></th>\n",
              "      <th></th>\n",
              "    </tr>\n",
              "  </thead>\n",
              "  <tbody>\n",
              "    <tr>\n",
              "      <th>abreubo01</th>\n",
              "      <td>1.321375</td>\n",
              "      <td>5.781016</td>\n",
              "      <td>6.111359</td>\n",
              "      <td>2.257349</td>\n",
              "      <td>0.454223</td>\n",
              "      <td>8.891339</td>\n",
              "    </tr>\n",
              "    <tr>\n",
              "      <th>agbaybe01</th>\n",
              "      <td>1.279368</td>\n",
              "      <td>4.496064</td>\n",
              "      <td>6.287179</td>\n",
              "      <td>1.864222</td>\n",
              "      <td>0.219320</td>\n",
              "      <td>7.517417</td>\n",
              "    </tr>\n",
              "    <tr>\n",
              "      <th>alfoned01</th>\n",
              "      <td>1.214388</td>\n",
              "      <td>4.541305</td>\n",
              "      <td>6.767683</td>\n",
              "      <td>1.998680</td>\n",
              "      <td>0.088549</td>\n",
              "      <td>7.865305</td>\n",
              "    </tr>\n",
              "    <tr>\n",
              "      <th>alicelu01</th>\n",
              "      <td>0.475905</td>\n",
              "      <td>4.283142</td>\n",
              "      <td>6.722153</td>\n",
              "      <td>1.626007</td>\n",
              "      <td>0.436246</td>\n",
              "      <td>7.461723</td>\n",
              "    </tr>\n",
              "    <tr>\n",
              "      <th>alomaro01</th>\n",
              "      <td>1.141080</td>\n",
              "      <td>4.288455</td>\n",
              "      <td>7.310437</td>\n",
              "      <td>2.169306</td>\n",
              "      <td>0.250787</td>\n",
              "      <td>8.571045</td>\n",
              "    </tr>\n",
              "  </tbody>\n",
              "</table>\n",
              "</div>"
            ],
            "text/plain": [
              "                 HR        BB   singles   doubles   triples     R_hat\n",
              "playerID                                                             \n",
              "abreubo01  1.321375  5.781016  6.111359  2.257349  0.454223  8.891339\n",
              "agbaybe01  1.279368  4.496064  6.287179  1.864222  0.219320  7.517417\n",
              "alfoned01  1.214388  4.541305  6.767683  1.998680  0.088549  7.865305\n",
              "alicelu01  0.475905  4.283142  6.722153  1.626007  0.436246  7.461723\n",
              "alomaro01  1.141080  4.288455  7.310437  2.169306  0.250787  8.571045"
            ]
          },
          "metadata": {
            "tags": []
          },
          "execution_count": 116
        }
      ]
    },
    {
      "cell_type": "code",
      "metadata": {
        "id": "GJDrdUcRsp37",
        "outputId": "777ec576-b609-400c-a597-db2b6c9731cf",
        "colab": {
          "base_uri": "https://localhost:8080/",
          "height": 197
        }
      },
      "source": [
        "master = pd.read_csv(\"https://raw.githubusercontent.com/tleitch/BDML/main/data/master.csv\")\n",
        "players_features  =  pd.merge(master[[\"playerID\",\"nameFirst\",\"nameLast\"]],players_features,on=\"playerID\")\n",
        "players_features.head()"
      ],
      "id": "GJDrdUcRsp37",
      "execution_count": 117,
      "outputs": [
        {
          "output_type": "execute_result",
          "data": {
            "text/html": [
              "<div>\n",
              "<style scoped>\n",
              "    .dataframe tbody tr th:only-of-type {\n",
              "        vertical-align: middle;\n",
              "    }\n",
              "\n",
              "    .dataframe tbody tr th {\n",
              "        vertical-align: top;\n",
              "    }\n",
              "\n",
              "    .dataframe thead th {\n",
              "        text-align: right;\n",
              "    }\n",
              "</style>\n",
              "<table border=\"1\" class=\"dataframe\">\n",
              "  <thead>\n",
              "    <tr style=\"text-align: right;\">\n",
              "      <th></th>\n",
              "      <th>playerID</th>\n",
              "      <th>nameFirst</th>\n",
              "      <th>nameLast</th>\n",
              "      <th>HR</th>\n",
              "      <th>BB</th>\n",
              "      <th>singles</th>\n",
              "      <th>doubles</th>\n",
              "      <th>triples</th>\n",
              "      <th>R_hat</th>\n",
              "    </tr>\n",
              "  </thead>\n",
              "  <tbody>\n",
              "    <tr>\n",
              "      <th>0</th>\n",
              "      <td>abreubo01</td>\n",
              "      <td>Bobby</td>\n",
              "      <td>Abreu</td>\n",
              "      <td>1.321375</td>\n",
              "      <td>5.781016</td>\n",
              "      <td>6.111359</td>\n",
              "      <td>2.257349</td>\n",
              "      <td>0.454223</td>\n",
              "      <td>8.891339</td>\n",
              "    </tr>\n",
              "    <tr>\n",
              "      <th>1</th>\n",
              "      <td>agbaybe01</td>\n",
              "      <td>Benny</td>\n",
              "      <td>Agbayani</td>\n",
              "      <td>1.279368</td>\n",
              "      <td>4.496064</td>\n",
              "      <td>6.287179</td>\n",
              "      <td>1.864222</td>\n",
              "      <td>0.219320</td>\n",
              "      <td>7.517417</td>\n",
              "    </tr>\n",
              "    <tr>\n",
              "      <th>2</th>\n",
              "      <td>alfoned01</td>\n",
              "      <td>Edgardo</td>\n",
              "      <td>Alfonzo</td>\n",
              "      <td>1.214388</td>\n",
              "      <td>4.541305</td>\n",
              "      <td>6.767683</td>\n",
              "      <td>1.998680</td>\n",
              "      <td>0.088549</td>\n",
              "      <td>7.865305</td>\n",
              "    </tr>\n",
              "    <tr>\n",
              "      <th>3</th>\n",
              "      <td>alicelu01</td>\n",
              "      <td>Luis</td>\n",
              "      <td>Alicea</td>\n",
              "      <td>0.475905</td>\n",
              "      <td>4.283142</td>\n",
              "      <td>6.722153</td>\n",
              "      <td>1.626007</td>\n",
              "      <td>0.436246</td>\n",
              "      <td>7.461723</td>\n",
              "    </tr>\n",
              "    <tr>\n",
              "      <th>4</th>\n",
              "      <td>alomaro01</td>\n",
              "      <td>Roberto</td>\n",
              "      <td>Alomar</td>\n",
              "      <td>1.141080</td>\n",
              "      <td>4.288455</td>\n",
              "      <td>7.310437</td>\n",
              "      <td>2.169306</td>\n",
              "      <td>0.250787</td>\n",
              "      <td>8.571045</td>\n",
              "    </tr>\n",
              "  </tbody>\n",
              "</table>\n",
              "</div>"
            ],
            "text/plain": [
              "    playerID nameFirst  nameLast  ...   doubles   triples     R_hat\n",
              "0  abreubo01     Bobby     Abreu  ...  2.257349  0.454223  8.891339\n",
              "1  agbaybe01     Benny  Agbayani  ...  1.864222  0.219320  7.517417\n",
              "2  alfoned01   Edgardo   Alfonzo  ...  1.998680  0.088549  7.865305\n",
              "3  alicelu01      Luis    Alicea  ...  1.626007  0.436246  7.461723\n",
              "4  alomaro01   Roberto    Alomar  ...  2.169306  0.250787  8.571045\n",
              "\n",
              "[5 rows x 9 columns]"
            ]
          },
          "metadata": {
            "tags": []
          },
          "execution_count": 117
        }
      ]
    },
    {
      "cell_type": "markdown",
      "metadata": {
        "id": "LHlW3b2DLLfw"
      },
      "source": [
        "The player-specific predicted runs computed here can be interpreted as the number of runs we predict a team  will score if all batters are exactly like that player "
      ],
      "id": "LHlW3b2DLLfw"
    },
    {
      "cell_type": "markdown",
      "metadata": {
        "id": "M1CRTNINLLfx"
      },
      "source": [
        "## Adding salary information ##"
      ],
      "id": "M1CRTNINLLfx"
    },
    {
      "cell_type": "markdown",
      "metadata": {
        "id": "6ehXaCn_gWPZ"
      },
      "source": [
        "To actually build the team, we will need to know their salaries as well as their defensive position."
      ],
      "id": "6ehXaCn_gWPZ"
    },
    {
      "cell_type": "code",
      "metadata": {
        "id": "AneE8PixLLfx"
      },
      "source": [
        "Salaries=pd.read_csv(\"https://raw.githubusercontent.com/tleitch/BDML/main/data/salaries.csv\")"
      ],
      "id": "AneE8PixLLfx",
      "execution_count": 118,
      "outputs": []
    },
    {
      "cell_type": "code",
      "metadata": {
        "id": "VWyr8Y9rLLfx"
      },
      "source": [
        "salaries_yr_2002 =Salaries[Salaries.yearID==2002]\n",
        "salaries_yr_2002= salaries_yr_2002[[\"playerID\",\"salary\"]]"
      ],
      "id": "VWyr8Y9rLLfx",
      "execution_count": 119,
      "outputs": []
    },
    {
      "cell_type": "code",
      "metadata": {
        "id": "b8bL3idbLLfx",
        "outputId": "51dce197-9afd-49af-f4ea-3fc56f0b818c",
        "colab": {
          "base_uri": "https://localhost:8080/",
          "height": 197
        }
      },
      "source": [
        "player_insights = pd.merge(salaries_yr_2002, players_features, on='playerID')\n",
        "player_insights.head()"
      ],
      "id": "b8bL3idbLLfx",
      "execution_count": 120,
      "outputs": [
        {
          "output_type": "execute_result",
          "data": {
            "text/html": [
              "<div>\n",
              "<style scoped>\n",
              "    .dataframe tbody tr th:only-of-type {\n",
              "        vertical-align: middle;\n",
              "    }\n",
              "\n",
              "    .dataframe tbody tr th {\n",
              "        vertical-align: top;\n",
              "    }\n",
              "\n",
              "    .dataframe thead th {\n",
              "        text-align: right;\n",
              "    }\n",
              "</style>\n",
              "<table border=\"1\" class=\"dataframe\">\n",
              "  <thead>\n",
              "    <tr style=\"text-align: right;\">\n",
              "      <th></th>\n",
              "      <th>playerID</th>\n",
              "      <th>salary</th>\n",
              "      <th>nameFirst</th>\n",
              "      <th>nameLast</th>\n",
              "      <th>HR</th>\n",
              "      <th>BB</th>\n",
              "      <th>singles</th>\n",
              "      <th>doubles</th>\n",
              "      <th>triples</th>\n",
              "      <th>R_hat</th>\n",
              "    </tr>\n",
              "  </thead>\n",
              "  <tbody>\n",
              "    <tr>\n",
              "      <th>0</th>\n",
              "      <td>anderga01</td>\n",
              "      <td>5000000</td>\n",
              "      <td>Garret</td>\n",
              "      <td>Anderson</td>\n",
              "      <td>1.245384</td>\n",
              "      <td>1.676031</td>\n",
              "      <td>7.251160</td>\n",
              "      <td>2.234707</td>\n",
              "      <td>0.197865</td>\n",
              "      <td>7.211889</td>\n",
              "    </tr>\n",
              "    <tr>\n",
              "      <th>1</th>\n",
              "      <td>erstada01</td>\n",
              "      <td>6250000</td>\n",
              "      <td>Darin</td>\n",
              "      <td>Erstad</td>\n",
              "      <td>0.982139</td>\n",
              "      <td>3.197939</td>\n",
              "      <td>7.198358</td>\n",
              "      <td>2.024164</td>\n",
              "      <td>0.227569</td>\n",
              "      <td>7.645725</td>\n",
              "    </tr>\n",
              "    <tr>\n",
              "      <th>2</th>\n",
              "      <td>fabrejo01</td>\n",
              "      <td>500000</td>\n",
              "      <td>Jorge</td>\n",
              "      <td>Fabregas</td>\n",
              "      <td>0.583429</td>\n",
              "      <td>2.230759</td>\n",
              "      <td>6.623638</td>\n",
              "      <td>1.132539</td>\n",
              "      <td>0.171597</td>\n",
              "      <td>5.365805</td>\n",
              "    </tr>\n",
              "    <tr>\n",
              "      <th>3</th>\n",
              "      <td>fullmbr01</td>\n",
              "      <td>4000000</td>\n",
              "      <td>Brad</td>\n",
              "      <td>Fullmer</td>\n",
              "      <td>1.433642</td>\n",
              "      <td>2.504095</td>\n",
              "      <td>5.906606</td>\n",
              "      <td>2.676132</td>\n",
              "      <td>0.133807</td>\n",
              "      <td>7.129912</td>\n",
              "    </tr>\n",
              "    <tr>\n",
              "      <th>4</th>\n",
              "      <td>glaustr01</td>\n",
              "      <td>4000000</td>\n",
              "      <td>Troy</td>\n",
              "      <td>Glaus</td>\n",
              "      <td>2.105016</td>\n",
              "      <td>5.440932</td>\n",
              "      <td>4.299228</td>\n",
              "      <td>2.015821</td>\n",
              "      <td>0.053517</td>\n",
              "      <td>6.730333</td>\n",
              "    </tr>\n",
              "  </tbody>\n",
              "</table>\n",
              "</div>"
            ],
            "text/plain": [
              "    playerID   salary nameFirst  ...   doubles   triples     R_hat\n",
              "0  anderga01  5000000    Garret  ...  2.234707  0.197865  7.211889\n",
              "1  erstada01  6250000     Darin  ...  2.024164  0.227569  7.645725\n",
              "2  fabrejo01   500000     Jorge  ...  1.132539  0.171597  5.365805\n",
              "3  fullmbr01  4000000      Brad  ...  2.676132  0.133807  7.129912\n",
              "4  glaustr01  4000000      Troy  ...  2.015821  0.053517  6.730333\n",
              "\n",
              "[5 rows x 10 columns]"
            ]
          },
          "metadata": {
            "tags": []
          },
          "execution_count": 120
        }
      ]
    },
    {
      "cell_type": "markdown",
      "metadata": {
        "id": "zETj1i3FLLfy"
      },
      "source": [
        "## Adding position information ##"
      ],
      "id": "zETj1i3FLLfy"
    },
    {
      "cell_type": "markdown",
      "metadata": {
        "id": "aYZEDKEKftpF"
      },
      "source": [
        "Next, we add their defensive position. This is a somewhat complicated task because players play more than one position each year. Appearances data tells how many games each player played in each position, so we can pick the position that was most played for each player. However, because some players are traded, they appear more than once on the table, so we first sum their appearances across teams. We remove pitchers since they don’t bat in the league in which the A’s play."
      ],
      "id": "aYZEDKEKftpF"
    },
    {
      "cell_type": "code",
      "metadata": {
        "id": "2bTeCCwSLLfz"
      },
      "source": [
        "appearances = pd.read_csv(\"https://raw.githubusercontent.com/tleitch/BDML/main/data/appearances.csv\")\n",
        "            "
      ],
      "id": "2bTeCCwSLLfz",
      "execution_count": 121,
      "outputs": []
    },
    {
      "cell_type": "code",
      "metadata": {
        "colab": {
          "base_uri": "https://localhost:8080/",
          "height": 197
        },
        "id": "-3BSj1i-LLfz",
        "outputId": "03d1b04b-3e6a-4713-f27f-a6354ad0d7eb"
      },
      "source": [
        "appearances.head()"
      ],
      "id": "-3BSj1i-LLfz",
      "execution_count": 122,
      "outputs": [
        {
          "output_type": "execute_result",
          "data": {
            "text/html": [
              "<div>\n",
              "<style scoped>\n",
              "    .dataframe tbody tr th:only-of-type {\n",
              "        vertical-align: middle;\n",
              "    }\n",
              "\n",
              "    .dataframe tbody tr th {\n",
              "        vertical-align: top;\n",
              "    }\n",
              "\n",
              "    .dataframe thead th {\n",
              "        text-align: right;\n",
              "    }\n",
              "</style>\n",
              "<table border=\"1\" class=\"dataframe\">\n",
              "  <thead>\n",
              "    <tr style=\"text-align: right;\">\n",
              "      <th></th>\n",
              "      <th>Unnamed: 0</th>\n",
              "      <th>yearID</th>\n",
              "      <th>teamID</th>\n",
              "      <th>lgID</th>\n",
              "      <th>playerID</th>\n",
              "      <th>G_all</th>\n",
              "      <th>GS</th>\n",
              "      <th>G_batting</th>\n",
              "      <th>G_defense</th>\n",
              "      <th>G_p</th>\n",
              "      <th>G_c</th>\n",
              "      <th>G_1b</th>\n",
              "      <th>G_2b</th>\n",
              "      <th>G_3b</th>\n",
              "      <th>G_ss</th>\n",
              "      <th>G_lf</th>\n",
              "      <th>G_cf</th>\n",
              "      <th>G_rf</th>\n",
              "      <th>G_of</th>\n",
              "      <th>G_dh</th>\n",
              "      <th>G_ph</th>\n",
              "      <th>G_pr</th>\n",
              "    </tr>\n",
              "  </thead>\n",
              "  <tbody>\n",
              "    <tr>\n",
              "      <th>0</th>\n",
              "      <td>1</td>\n",
              "      <td>1871</td>\n",
              "      <td>TRO</td>\n",
              "      <td>NaN</td>\n",
              "      <td>abercda01</td>\n",
              "      <td>1</td>\n",
              "      <td>1.0</td>\n",
              "      <td>1</td>\n",
              "      <td>1.0</td>\n",
              "      <td>0</td>\n",
              "      <td>0</td>\n",
              "      <td>0</td>\n",
              "      <td>0</td>\n",
              "      <td>0</td>\n",
              "      <td>1</td>\n",
              "      <td>0</td>\n",
              "      <td>0</td>\n",
              "      <td>0</td>\n",
              "      <td>0</td>\n",
              "      <td>0.0</td>\n",
              "      <td>0.0</td>\n",
              "      <td>0.0</td>\n",
              "    </tr>\n",
              "    <tr>\n",
              "      <th>1</th>\n",
              "      <td>2</td>\n",
              "      <td>1871</td>\n",
              "      <td>RC1</td>\n",
              "      <td>NaN</td>\n",
              "      <td>addybo01</td>\n",
              "      <td>25</td>\n",
              "      <td>25.0</td>\n",
              "      <td>25</td>\n",
              "      <td>25.0</td>\n",
              "      <td>0</td>\n",
              "      <td>0</td>\n",
              "      <td>0</td>\n",
              "      <td>22</td>\n",
              "      <td>0</td>\n",
              "      <td>3</td>\n",
              "      <td>0</td>\n",
              "      <td>0</td>\n",
              "      <td>0</td>\n",
              "      <td>0</td>\n",
              "      <td>0.0</td>\n",
              "      <td>0.0</td>\n",
              "      <td>0.0</td>\n",
              "    </tr>\n",
              "    <tr>\n",
              "      <th>2</th>\n",
              "      <td>3</td>\n",
              "      <td>1871</td>\n",
              "      <td>CL1</td>\n",
              "      <td>NaN</td>\n",
              "      <td>allisar01</td>\n",
              "      <td>29</td>\n",
              "      <td>29.0</td>\n",
              "      <td>29</td>\n",
              "      <td>29.0</td>\n",
              "      <td>0</td>\n",
              "      <td>0</td>\n",
              "      <td>0</td>\n",
              "      <td>2</td>\n",
              "      <td>0</td>\n",
              "      <td>0</td>\n",
              "      <td>0</td>\n",
              "      <td>29</td>\n",
              "      <td>0</td>\n",
              "      <td>29</td>\n",
              "      <td>0.0</td>\n",
              "      <td>0.0</td>\n",
              "      <td>0.0</td>\n",
              "    </tr>\n",
              "    <tr>\n",
              "      <th>3</th>\n",
              "      <td>4</td>\n",
              "      <td>1871</td>\n",
              "      <td>WS3</td>\n",
              "      <td>NaN</td>\n",
              "      <td>allisdo01</td>\n",
              "      <td>27</td>\n",
              "      <td>27.0</td>\n",
              "      <td>27</td>\n",
              "      <td>27.0</td>\n",
              "      <td>0</td>\n",
              "      <td>27</td>\n",
              "      <td>0</td>\n",
              "      <td>0</td>\n",
              "      <td>0</td>\n",
              "      <td>0</td>\n",
              "      <td>0</td>\n",
              "      <td>0</td>\n",
              "      <td>0</td>\n",
              "      <td>0</td>\n",
              "      <td>0.0</td>\n",
              "      <td>0.0</td>\n",
              "      <td>0.0</td>\n",
              "    </tr>\n",
              "    <tr>\n",
              "      <th>4</th>\n",
              "      <td>5</td>\n",
              "      <td>1871</td>\n",
              "      <td>RC1</td>\n",
              "      <td>NaN</td>\n",
              "      <td>ansonca01</td>\n",
              "      <td>25</td>\n",
              "      <td>25.0</td>\n",
              "      <td>25</td>\n",
              "      <td>25.0</td>\n",
              "      <td>0</td>\n",
              "      <td>5</td>\n",
              "      <td>1</td>\n",
              "      <td>2</td>\n",
              "      <td>20</td>\n",
              "      <td>0</td>\n",
              "      <td>1</td>\n",
              "      <td>0</td>\n",
              "      <td>0</td>\n",
              "      <td>1</td>\n",
              "      <td>0.0</td>\n",
              "      <td>0.0</td>\n",
              "      <td>0.0</td>\n",
              "    </tr>\n",
              "  </tbody>\n",
              "</table>\n",
              "</div>"
            ],
            "text/plain": [
              "   Unnamed: 0  yearID teamID lgID   playerID  ...  G_rf  G_of  G_dh  G_ph  G_pr\n",
              "0           1    1871    TRO  NaN  abercda01  ...     0     0   0.0   0.0   0.0\n",
              "1           2    1871    RC1  NaN   addybo01  ...     0     0   0.0   0.0   0.0\n",
              "2           3    1871    CL1  NaN  allisar01  ...     0    29   0.0   0.0   0.0\n",
              "3           4    1871    WS3  NaN  allisdo01  ...     0     0   0.0   0.0   0.0\n",
              "4           5    1871    RC1  NaN  ansonca01  ...     0     1   0.0   0.0   0.0\n",
              "\n",
              "[5 rows x 22 columns]"
            ]
          },
          "metadata": {
            "tags": []
          },
          "execution_count": 122
        }
      ]
    },
    {
      "cell_type": "code",
      "metadata": {
        "id": "uEY_YB-0LLfz"
      },
      "source": [
        "append_str = 'G_'\n",
        "position_names = [\"p\",\"c\",\"1b\",\"2b\",\"3b\",\"ss\",\"lf\",\"cf\",\"rf\", \"dh\"]\n",
        "position_names = [append_str + sub for sub in position_names]"
      ],
      "id": "uEY_YB-0LLfz",
      "execution_count": 123,
      "outputs": []
    },
    {
      "cell_type": "code",
      "metadata": {
        "id": "b_HO59-DLLfz"
      },
      "source": [
        "operations_dict = {}\n",
        "for term in position_names:\n",
        "    operations_dict[term] = \"sum\""
      ],
      "id": "b_HO59-DLLfz",
      "execution_count": 124,
      "outputs": []
    },
    {
      "cell_type": "code",
      "metadata": {
        "id": "tVBsTjvPLLf0"
      },
      "source": [
        "result = appearances[appearances.yearID == 2002].groupby(\"playerID\").agg(operations_dict)"
      ],
      "id": "tVBsTjvPLLf0",
      "execution_count": 125,
      "outputs": []
    },
    {
      "cell_type": "code",
      "metadata": {
        "id": "D6LG11FeLLf0",
        "outputId": "116cc74d-c262-49fe-b9f9-8a10e8fc1b57",
        "colab": {
          "base_uri": "https://localhost:8080/",
          "height": 227
        }
      },
      "source": [
        "result.head()"
      ],
      "id": "D6LG11FeLLf0",
      "execution_count": 126,
      "outputs": [
        {
          "output_type": "execute_result",
          "data": {
            "text/html": [
              "<div>\n",
              "<style scoped>\n",
              "    .dataframe tbody tr th:only-of-type {\n",
              "        vertical-align: middle;\n",
              "    }\n",
              "\n",
              "    .dataframe tbody tr th {\n",
              "        vertical-align: top;\n",
              "    }\n",
              "\n",
              "    .dataframe thead th {\n",
              "        text-align: right;\n",
              "    }\n",
              "</style>\n",
              "<table border=\"1\" class=\"dataframe\">\n",
              "  <thead>\n",
              "    <tr style=\"text-align: right;\">\n",
              "      <th></th>\n",
              "      <th>G_p</th>\n",
              "      <th>G_c</th>\n",
              "      <th>G_1b</th>\n",
              "      <th>G_2b</th>\n",
              "      <th>G_3b</th>\n",
              "      <th>G_ss</th>\n",
              "      <th>G_lf</th>\n",
              "      <th>G_cf</th>\n",
              "      <th>G_rf</th>\n",
              "      <th>G_dh</th>\n",
              "    </tr>\n",
              "    <tr>\n",
              "      <th>playerID</th>\n",
              "      <th></th>\n",
              "      <th></th>\n",
              "      <th></th>\n",
              "      <th></th>\n",
              "      <th></th>\n",
              "      <th></th>\n",
              "      <th></th>\n",
              "      <th></th>\n",
              "      <th></th>\n",
              "      <th></th>\n",
              "    </tr>\n",
              "  </thead>\n",
              "  <tbody>\n",
              "    <tr>\n",
              "      <th>abbotpa01</th>\n",
              "      <td>7</td>\n",
              "      <td>0</td>\n",
              "      <td>0</td>\n",
              "      <td>0</td>\n",
              "      <td>0</td>\n",
              "      <td>0</td>\n",
              "      <td>0</td>\n",
              "      <td>0</td>\n",
              "      <td>0</td>\n",
              "      <td>0.0</td>\n",
              "    </tr>\n",
              "    <tr>\n",
              "      <th>abernbr01</th>\n",
              "      <td>0</td>\n",
              "      <td>0</td>\n",
              "      <td>0</td>\n",
              "      <td>116</td>\n",
              "      <td>0</td>\n",
              "      <td>0</td>\n",
              "      <td>0</td>\n",
              "      <td>0</td>\n",
              "      <td>0</td>\n",
              "      <td>1.0</td>\n",
              "    </tr>\n",
              "    <tr>\n",
              "      <th>abreubo01</th>\n",
              "      <td>0</td>\n",
              "      <td>0</td>\n",
              "      <td>0</td>\n",
              "      <td>0</td>\n",
              "      <td>0</td>\n",
              "      <td>0</td>\n",
              "      <td>0</td>\n",
              "      <td>18</td>\n",
              "      <td>148</td>\n",
              "      <td>0.0</td>\n",
              "    </tr>\n",
              "    <tr>\n",
              "      <th>acevejo01</th>\n",
              "      <td>6</td>\n",
              "      <td>0</td>\n",
              "      <td>0</td>\n",
              "      <td>0</td>\n",
              "      <td>0</td>\n",
              "      <td>0</td>\n",
              "      <td>0</td>\n",
              "      <td>0</td>\n",
              "      <td>0</td>\n",
              "      <td>0.0</td>\n",
              "    </tr>\n",
              "    <tr>\n",
              "      <th>aceveju01</th>\n",
              "      <td>65</td>\n",
              "      <td>0</td>\n",
              "      <td>0</td>\n",
              "      <td>0</td>\n",
              "      <td>0</td>\n",
              "      <td>0</td>\n",
              "      <td>0</td>\n",
              "      <td>0</td>\n",
              "      <td>0</td>\n",
              "      <td>0.0</td>\n",
              "    </tr>\n",
              "  </tbody>\n",
              "</table>\n",
              "</div>"
            ],
            "text/plain": [
              "           G_p  G_c  G_1b  G_2b  G_3b  G_ss  G_lf  G_cf  G_rf  G_dh\n",
              "playerID                                                           \n",
              "abbotpa01    7    0     0     0     0     0     0     0     0   0.0\n",
              "abernbr01    0    0     0   116     0     0     0     0     0   1.0\n",
              "abreubo01    0    0     0     0     0     0     0    18   148   0.0\n",
              "acevejo01    6    0     0     0     0     0     0     0     0   0.0\n",
              "aceveju01   65    0     0     0     0     0     0     0     0   0.0"
            ]
          },
          "metadata": {
            "tags": []
          },
          "execution_count": 126
        }
      ]
    },
    {
      "cell_type": "code",
      "metadata": {
        "id": "uXbzRjbVLLf0"
      },
      "source": [
        "def max_position(x):\n",
        "    \n",
        "    position_counts = [x[term] for term in position_names]\n",
        "    return position_counts.index(max(position_counts))"
      ],
      "id": "uXbzRjbVLLf0",
      "execution_count": 127,
      "outputs": []
    },
    {
      "cell_type": "code",
      "metadata": {
        "id": "lF9YDxL1LLf1"
      },
      "source": [
        "result[\"most_played_position\"] = result.apply(lambda x : position_names[max_position(x)][2:],axis=1)"
      ],
      "id": "lF9YDxL1LLf1",
      "execution_count": 128,
      "outputs": []
    },
    {
      "cell_type": "code",
      "metadata": {
        "id": "UKe9gB3vLLf1",
        "outputId": "bec783d7-02a0-4b77-dedf-54783aa453d0",
        "colab": {
          "base_uri": "https://localhost:8080/",
          "height": 227
        }
      },
      "source": [
        "result.head()\n"
      ],
      "id": "UKe9gB3vLLf1",
      "execution_count": 129,
      "outputs": [
        {
          "output_type": "execute_result",
          "data": {
            "text/html": [
              "<div>\n",
              "<style scoped>\n",
              "    .dataframe tbody tr th:only-of-type {\n",
              "        vertical-align: middle;\n",
              "    }\n",
              "\n",
              "    .dataframe tbody tr th {\n",
              "        vertical-align: top;\n",
              "    }\n",
              "\n",
              "    .dataframe thead th {\n",
              "        text-align: right;\n",
              "    }\n",
              "</style>\n",
              "<table border=\"1\" class=\"dataframe\">\n",
              "  <thead>\n",
              "    <tr style=\"text-align: right;\">\n",
              "      <th></th>\n",
              "      <th>G_p</th>\n",
              "      <th>G_c</th>\n",
              "      <th>G_1b</th>\n",
              "      <th>G_2b</th>\n",
              "      <th>G_3b</th>\n",
              "      <th>G_ss</th>\n",
              "      <th>G_lf</th>\n",
              "      <th>G_cf</th>\n",
              "      <th>G_rf</th>\n",
              "      <th>G_dh</th>\n",
              "      <th>most_played_position</th>\n",
              "    </tr>\n",
              "    <tr>\n",
              "      <th>playerID</th>\n",
              "      <th></th>\n",
              "      <th></th>\n",
              "      <th></th>\n",
              "      <th></th>\n",
              "      <th></th>\n",
              "      <th></th>\n",
              "      <th></th>\n",
              "      <th></th>\n",
              "      <th></th>\n",
              "      <th></th>\n",
              "      <th></th>\n",
              "    </tr>\n",
              "  </thead>\n",
              "  <tbody>\n",
              "    <tr>\n",
              "      <th>abbotpa01</th>\n",
              "      <td>7</td>\n",
              "      <td>0</td>\n",
              "      <td>0</td>\n",
              "      <td>0</td>\n",
              "      <td>0</td>\n",
              "      <td>0</td>\n",
              "      <td>0</td>\n",
              "      <td>0</td>\n",
              "      <td>0</td>\n",
              "      <td>0.0</td>\n",
              "      <td>p</td>\n",
              "    </tr>\n",
              "    <tr>\n",
              "      <th>abernbr01</th>\n",
              "      <td>0</td>\n",
              "      <td>0</td>\n",
              "      <td>0</td>\n",
              "      <td>116</td>\n",
              "      <td>0</td>\n",
              "      <td>0</td>\n",
              "      <td>0</td>\n",
              "      <td>0</td>\n",
              "      <td>0</td>\n",
              "      <td>1.0</td>\n",
              "      <td>2b</td>\n",
              "    </tr>\n",
              "    <tr>\n",
              "      <th>abreubo01</th>\n",
              "      <td>0</td>\n",
              "      <td>0</td>\n",
              "      <td>0</td>\n",
              "      <td>0</td>\n",
              "      <td>0</td>\n",
              "      <td>0</td>\n",
              "      <td>0</td>\n",
              "      <td>18</td>\n",
              "      <td>148</td>\n",
              "      <td>0.0</td>\n",
              "      <td>rf</td>\n",
              "    </tr>\n",
              "    <tr>\n",
              "      <th>acevejo01</th>\n",
              "      <td>6</td>\n",
              "      <td>0</td>\n",
              "      <td>0</td>\n",
              "      <td>0</td>\n",
              "      <td>0</td>\n",
              "      <td>0</td>\n",
              "      <td>0</td>\n",
              "      <td>0</td>\n",
              "      <td>0</td>\n",
              "      <td>0.0</td>\n",
              "      <td>p</td>\n",
              "    </tr>\n",
              "    <tr>\n",
              "      <th>aceveju01</th>\n",
              "      <td>65</td>\n",
              "      <td>0</td>\n",
              "      <td>0</td>\n",
              "      <td>0</td>\n",
              "      <td>0</td>\n",
              "      <td>0</td>\n",
              "      <td>0</td>\n",
              "      <td>0</td>\n",
              "      <td>0</td>\n",
              "      <td>0.0</td>\n",
              "      <td>p</td>\n",
              "    </tr>\n",
              "  </tbody>\n",
              "</table>\n",
              "</div>"
            ],
            "text/plain": [
              "           G_p  G_c  G_1b  G_2b  ...  G_cf  G_rf  G_dh  most_played_position\n",
              "playerID                         ...                                        \n",
              "abbotpa01    7    0     0     0  ...     0     0   0.0                     p\n",
              "abernbr01    0    0     0   116  ...     0     0   1.0                    2b\n",
              "abreubo01    0    0     0     0  ...    18   148   0.0                    rf\n",
              "acevejo01    6    0     0     0  ...     0     0   0.0                     p\n",
              "aceveju01   65    0     0     0  ...     0     0   0.0                     p\n",
              "\n",
              "[5 rows x 11 columns]"
            ]
          },
          "metadata": {
            "tags": []
          },
          "execution_count": 129
        }
      ]
    },
    {
      "cell_type": "code",
      "metadata": {
        "id": "c6D3GT7gLLf1"
      },
      "source": [
        "player_salary_position = pd.merge(player_insights, result, on='playerID')\n",
        "player_salary_position.drop(position_names,axis=1,inplace=True)\n",
        "player_salary_position = player_salary_position[player_salary_position[\"most_played_position\"]!=\"p\"]"
      ],
      "id": "c6D3GT7gLLf1",
      "execution_count": 130,
      "outputs": []
    },
    {
      "cell_type": "code",
      "metadata": {
        "id": "sHhhEh3mLLf2"
      },
      "source": [
        "position_names = [\"p\",\"c\",\"1b\",\"2b\",\"3b\",\"ss\",\"lf\",\"cf\",\"rf\", \"dh\"]\n",
        "for position in position_names:\n",
        "    player_salary_position[\"chronicle_delta_\" + str(position)] = player_salary_position.apply(lambda x : 1 if x.most_played_position == position else 0,axis=1)"
      ],
      "id": "sHhhEh3mLLf2",
      "execution_count": 131,
      "outputs": []
    },
    {
      "cell_type": "markdown",
      "metadata": {
        "id": "5M9nx5sCLLf2"
      },
      "source": [
        "## Select the players given the maximum budget as 40 million dollars ##\n"
      ],
      "id": "5M9nx5sCLLf2"
    },
    {
      "cell_type": "markdown",
      "metadata": {
        "id": "LDCSZIsULLf3"
      },
      "source": [
        "Please see reference link before proceeding the code : \n",
        "https://docs.python-mip.com/en/latest/examples.html"
      ],
      "id": "LDCSZIsULLf3"
    },
    {
      "cell_type": "markdown",
      "metadata": {
        "id": "0j0fxFIHiz9n"
      },
      "source": [
        "We can search for good deals by looking at players who produce many more runs than others with similar salaries. We can use this table to decide what players to pick and keep our total salary below the 40 million dollars Billy Beane had to work with. Another constraint is to have a player for every position."
      ],
      "id": "0j0fxFIHiz9n"
    },
    {
      "cell_type": "markdown",
      "metadata": {
        "id": "ufjf4RNojGo6"
      },
      "source": [
        ""
      ],
      "id": "ufjf4RNojGo6"
    },
    {
      "cell_type": "code",
      "metadata": {
        "id": "m2CMbcGBLLf4"
      },
      "source": [
        "from mip import Model, xsum, maximize, BINARY"
      ],
      "id": "m2CMbcGBLLf4",
      "execution_count": 132,
      "outputs": []
    },
    {
      "cell_type": "code",
      "metadata": {
        "id": "9CVd5JIcLLf4"
      },
      "source": [
        "## Here p denotes predicted runs. p[i] denote the runs for the ith player.\n",
        "## Here w denotes the salary. w[i] denotes the salary for the ith player.\n",
        "## chronicle_delta_position column of the dataframe denotes whether the player plays on that corresponding position or not.\n",
        "p = player_salary_position[\"R_hat\"]\n",
        "w = player_salary_position[\"salary\"]\n",
        "\n",
        "c, I = 40000000, range(len(w))"
      ],
      "id": "9CVd5JIcLLf4",
      "execution_count": 133,
      "outputs": []
    },
    {
      "cell_type": "code",
      "metadata": {
        "id": "nycRzNGLLLf5",
        "outputId": "322252c3-01f8-45e6-c208-e5db37d77599",
        "colab": {
          "base_uri": "https://localhost:8080/"
        }
      },
      "source": [
        "m = Model(\"knapsack\")\n",
        "\n",
        "x = [m.add_var(var_type=BINARY) for i in I]\n",
        "\n",
        "m.objective = maximize(xsum(p[i] * x[i] for i in I))\n",
        "\n",
        "m += xsum(w[i] * x[i] for i in I) <= c\n",
        "\n",
        "\n",
        "for position in position_names:\n",
        "    m += xsum(player_salary_position[\"chronicle_delta_\" + str(position)][i]*x[i] for i in I) == 1\n",
        "    \n",
        "\n",
        "\n",
        "m.optimize()\n",
        "\n",
        "selected = [i for i in I if x[i].x >= 0.99]\n",
        "print(\"selected items: {}\".format(selected))\n"
      ],
      "id": "nycRzNGLLLf5",
      "execution_count": 134,
      "outputs": [
        {
          "output_type": "stream",
          "text": [
            "selected items: [39, 57, 84, 103, 108, 121, 191, 217, 218]\n"
          ],
          "name": "stdout"
        }
      ]
    },
    {
      "cell_type": "markdown",
      "metadata": {
        "id": "omRkiSXaLLf6"
      },
      "source": [
        "## Selected team ##"
      ],
      "id": "omRkiSXaLLf6"
    },
    {
      "cell_type": "code",
      "metadata": {
        "id": "aM2GYVGJLLf7",
        "outputId": "0ae52a19-da84-41fe-eecd-a7b136ac45b4",
        "colab": {
          "base_uri": "https://localhost:8080/",
          "height": 317
        }
      },
      "source": [
        "player_salary_position.drop([\"chronicle_delta_\" + str(position) for position in position_names],axis=1,inplace=True)\n",
        "player_salary_position[\"most_played_position\"] = player_salary_position[\"most_played_position\"].apply(lambda x :x.upper())\n",
        "selected_team=player_salary_position.iloc[selected]\n",
        "selected_team"
      ],
      "id": "aM2GYVGJLLf7",
      "execution_count": 135,
      "outputs": [
        {
          "output_type": "execute_result",
          "data": {
            "text/html": [
              "<div>\n",
              "<style scoped>\n",
              "    .dataframe tbody tr th:only-of-type {\n",
              "        vertical-align: middle;\n",
              "    }\n",
              "\n",
              "    .dataframe tbody tr th {\n",
              "        vertical-align: top;\n",
              "    }\n",
              "\n",
              "    .dataframe thead th {\n",
              "        text-align: right;\n",
              "    }\n",
              "</style>\n",
              "<table border=\"1\" class=\"dataframe\">\n",
              "  <thead>\n",
              "    <tr style=\"text-align: right;\">\n",
              "      <th></th>\n",
              "      <th>playerID</th>\n",
              "      <th>salary</th>\n",
              "      <th>nameFirst</th>\n",
              "      <th>nameLast</th>\n",
              "      <th>HR</th>\n",
              "      <th>BB</th>\n",
              "      <th>singles</th>\n",
              "      <th>doubles</th>\n",
              "      <th>triples</th>\n",
              "      <th>R_hat</th>\n",
              "      <th>most_played_position</th>\n",
              "    </tr>\n",
              "  </thead>\n",
              "  <tbody>\n",
              "    <tr>\n",
              "      <th>39</th>\n",
              "      <td>garcino01</td>\n",
              "      <td>9000000</td>\n",
              "      <td>Nomar</td>\n",
              "      <td>Garciaparra</td>\n",
              "      <td>1.730946</td>\n",
              "      <td>2.766555</td>\n",
              "      <td>7.323235</td>\n",
              "      <td>2.618611</td>\n",
              "      <td>0.384655</td>\n",
              "      <td>8.759763</td>\n",
              "      <td>SS</td>\n",
              "    </tr>\n",
              "    <tr>\n",
              "      <th>57</th>\n",
              "      <td>deshide01</td>\n",
              "      <td>1250000</td>\n",
              "      <td>Delino</td>\n",
              "      <td>DeShields</td>\n",
              "      <td>0.602038</td>\n",
              "      <td>4.260579</td>\n",
              "      <td>6.715043</td>\n",
              "      <td>1.821552</td>\n",
              "      <td>0.524854</td>\n",
              "      <td>7.861707</td>\n",
              "      <td>2B</td>\n",
              "    </tr>\n",
              "    <tr>\n",
              "      <th>84</th>\n",
              "      <td>heltoto01</td>\n",
              "      <td>5000000</td>\n",
              "      <td>Todd</td>\n",
              "      <td>Helton</td>\n",
              "      <td>2.240350</td>\n",
              "      <td>4.739202</td>\n",
              "      <td>6.218408</td>\n",
              "      <td>2.742993</td>\n",
              "      <td>0.157973</td>\n",
              "      <td>8.948503</td>\n",
              "      <td>1B</td>\n",
              "    </tr>\n",
              "    <tr>\n",
              "      <th>103</th>\n",
              "      <td>millake01</td>\n",
              "      <td>900000</td>\n",
              "      <td>Kevin</td>\n",
              "      <td>Millar</td>\n",
              "      <td>1.415550</td>\n",
              "      <td>3.818693</td>\n",
              "      <td>6.057238</td>\n",
              "      <td>2.304384</td>\n",
              "      <td>0.395037</td>\n",
              "      <td>7.838243</td>\n",
              "      <td>LF</td>\n",
              "    </tr>\n",
              "    <tr>\n",
              "      <th>108</th>\n",
              "      <td>berkmla01</td>\n",
              "      <td>500000</td>\n",
              "      <td>Lance</td>\n",
              "      <td>Berkman</td>\n",
              "      <td>1.932416</td>\n",
              "      <td>5.240449</td>\n",
              "      <td>5.502471</td>\n",
              "      <td>2.783988</td>\n",
              "      <td>0.196517</td>\n",
              "      <td>8.648912</td>\n",
              "      <td>CF</td>\n",
              "    </tr>\n",
              "    <tr>\n",
              "      <th>121</th>\n",
              "      <td>maynebr01</td>\n",
              "      <td>2500000</td>\n",
              "      <td>Brent</td>\n",
              "      <td>Mayne</td>\n",
              "      <td>0.436905</td>\n",
              "      <td>3.932144</td>\n",
              "      <td>7.565354</td>\n",
              "      <td>2.092545</td>\n",
              "      <td>0.022995</td>\n",
              "      <td>7.897188</td>\n",
              "      <td>C</td>\n",
              "    </tr>\n",
              "    <tr>\n",
              "      <th>191</th>\n",
              "      <td>abreubo01</td>\n",
              "      <td>6333333</td>\n",
              "      <td>Bobby</td>\n",
              "      <td>Abreu</td>\n",
              "      <td>1.321375</td>\n",
              "      <td>5.781016</td>\n",
              "      <td>6.111359</td>\n",
              "      <td>2.257349</td>\n",
              "      <td>0.454223</td>\n",
              "      <td>8.891339</td>\n",
              "      <td>RF</td>\n",
              "    </tr>\n",
              "    <tr>\n",
              "      <th>217</th>\n",
              "      <td>cirilje01</td>\n",
              "      <td>6375000</td>\n",
              "      <td>Jeff</td>\n",
              "      <td>Cirillo</td>\n",
              "      <td>0.800994</td>\n",
              "      <td>3.873461</td>\n",
              "      <td>7.782788</td>\n",
              "      <td>2.283429</td>\n",
              "      <td>0.119551</td>\n",
              "      <td>8.545594</td>\n",
              "      <td>3B</td>\n",
              "    </tr>\n",
              "    <tr>\n",
              "      <th>218</th>\n",
              "      <td>martied01</td>\n",
              "      <td>7086668</td>\n",
              "      <td>Edgar</td>\n",
              "      <td>Martinez</td>\n",
              "      <td>1.741558</td>\n",
              "      <td>6.311602</td>\n",
              "      <td>6.410414</td>\n",
              "      <td>2.309725</td>\n",
              "      <td>0.049406</td>\n",
              "      <td>9.034159</td>\n",
              "      <td>DH</td>\n",
              "    </tr>\n",
              "  </tbody>\n",
              "</table>\n",
              "</div>"
            ],
            "text/plain": [
              "      playerID   salary nameFirst  ...   triples     R_hat  most_played_position\n",
              "39   garcino01  9000000     Nomar  ...  0.384655  8.759763                    SS\n",
              "57   deshide01  1250000    Delino  ...  0.524854  7.861707                    2B\n",
              "84   heltoto01  5000000      Todd  ...  0.157973  8.948503                    1B\n",
              "103  millake01   900000     Kevin  ...  0.395037  7.838243                    LF\n",
              "108  berkmla01   500000     Lance  ...  0.196517  8.648912                    CF\n",
              "121  maynebr01  2500000     Brent  ...  0.022995  7.897188                     C\n",
              "191  abreubo01  6333333     Bobby  ...  0.454223  8.891339                    RF\n",
              "217  cirilje01  6375000      Jeff  ...  0.119551  8.545594                    3B\n",
              "218  martied01  7086668     Edgar  ...  0.049406  9.034159                    DH\n",
              "\n",
              "[9 rows x 11 columns]"
            ]
          },
          "metadata": {
            "tags": []
          },
          "execution_count": 135
        }
      ]
    },
    {
      "cell_type": "code",
      "metadata": {
        "id": "-gXXcuP6LLf7"
      },
      "source": [
        ""
      ],
      "id": "-gXXcuP6LLf7",
      "execution_count": 135,
      "outputs": []
    }
  ]
}