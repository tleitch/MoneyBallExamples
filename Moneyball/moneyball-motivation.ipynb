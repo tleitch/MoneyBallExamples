{
  "nbformat": 4,
  "nbformat_minor": 0,
  "metadata": {
    "colab": {
      "name": "moneyball-motivation.ipynb",
      "provenance": [],
      "include_colab_link": true
    }
  },
  "cells": [
    {
      "cell_type": "markdown",
      "metadata": {
        "id": "view-in-github",
        "colab_type": "text"
      },
      "source": [
        "<a href=\"https://colab.research.google.com/github/tleitch/BDML/blob/main/moneyball-motivation.ipynb\" target=\"_parent\"><img src=\"https://colab.research.google.com/assets/colab-badge.svg\" alt=\"Open In Colab\"/></a>"
      ]
    },
    {
      "cell_type": "markdown",
      "metadata": {
        "id": "Z34Mjoa9bwBD"
      },
      "source": [
        "# Linear models\n",
        "\n",
        "Since Galton's original development, regression has become one of the most widely used tools in data science. One reason has to do with the fact that regression permits us to find relationships between two variables taking into account the effects of other variables that affect both. This has been particularly popular in fields where randomized experiments are hard to run, such as economics and epidemiology. \n",
        "\n",
        "When we are not able to randomly assign each individual to a treatment or control group, confounding is particularly prevalent. For example, consider estimating the effect of eating fast foods on life expectancy using data collected from a random sample of people in a jurisdiction. Fast food consumers are more likely to be smokers, drinkers, and have lower incomes. Therefore, a naive regression model may lead to an overestimate of the negative health effect of fast food. So how do we account for confounding in practice? In this chapter we learn how linear models can help with such situations and can be used to describe how one or more variables affect an outcome variable.\n",
        "\n",
        "## Case study: Moneyball\n",
        "\n",
        "\n",
        "\n",
        "_Moneyball: The Art of Winning an Unfair Game_ is a book by Michael Lewis about the Oakland Athletics (A's) baseball team and its general manager, the person tasked with building the team, Billy Beane. \n",
        "\n",
        "Traditionally, baseball teams use _scouts_ to help them decide what players to hire. These scouts evaluate players by observing them perform. Scouts tend to favor athletic players with observable physical abilities. For this reason, scouts tend to agree on who the best players are and, as a result, these players tend to be in high demand. This in turn drives up their salaries. \n",
        "\n",
        "From 1989 to 1991, the A's had one of the highest payrolls in baseball. They were able to buy the best players and, during that time, they were one of the best teams. However, in 1995 the A's team owner changed and the new management cut the budget drastically, leaving then general manager, Sandy Alderson, with one of the lowest payrolls in baseball. He could no longer afford the most sought-after players. Alderson began using a statistical approach to find inefficiencies in the market. Alderson was a mentor to Billy Beane, who succeeded him in 1998 and fully embraced data science, as opposed to scouts, as a method for finding low-cost players that data predicted would help the team win. Today, this strategy has been adapted by most baseball teams. As we will see, regression plays a large role in this approach.\n",
        "\n",
        "As motivation for this chapter, we will pretend it is 2002 and try to build a baseball team with a limited budget, just like the A's had to do. To appreciate what you are up against, note that in 2002 the Yankees' payroll of \\$125,928,583 more than tripled the Oakland A's \\$39,679,746: \n",
        "\n",
        "\n",
        "\n",
        "\n",
        "\n",
        "### Sabermetics\n",
        "\n",
        "Statistics have been used in baseball since its beginnings. The dataset we will be using, included in the __Lahman__ library, goes back to the 19th century. For example, a summary statistics we will describe soon, the _batting average_, has been used for decades to summarize a batter's success. Other statistics^[http://mlb.mlb.com/stats/league_leaders.jsp] such as home runs (HR), runs batted in (RBI), and stolen bases (SB) are reported for each player in the game summaries included in the sports section of newspapers, with players rewarded for high numbers. Although summary statistics such as these were widely used in baseball, data analysis per se was not. These statistics were arbitrarily decided on without much thought as to whether they actually predicted anything or were related to helping a team win.\n",
        "\n",
        "This changed with Bill James^[https://en.wikipedia.org/wiki/Bill_James]. In the late 1970s, this aspiring writer and baseball fan started publishing articles describing more in-depth analysis of baseball data. He named the approach of using data to predict what outcomes best predicted if a team would win _sabermetrics_^[https://en.wikipedia.org/wiki/Sabermetrics]. Until Billy Beane made sabermetrics the center of his baseball operation, Bill James' work was mostly ignored by the baseball world. Currently, sabermetrics popularity is no longer limited to just baseball; other sports have started to use this approach as well.\n",
        "\n",
        "\n",
        "In this chapter, to simplify the exercise, we will focus on scoring runs and ignore the two other important aspects of the game: pitching and fielding. We will see how regression analysis can help develop strategies to build a competitive baseball team with a constrained budget. The approach can be divided into two separate data analyses. In the first, we determine which recorded player-specific statistics predict runs. In the second, we examine if players were undervalued based on what our first analysis predicts. \n",
        "\n",
        "### Baseball basics\n",
        "\n",
        "To see how regression will help us find undervalued players, we actually don't need to understand all the details about the game of baseball, which has over 100 rules. Here, we distill the sport to the basic knowledge one needs to know how to effectively attack the data science problem. \n",
        "\n",
        "The goal of a baseball game is to score more runs (points) than the other team. Each team has 9 batters that have an opportunity to hit a ball with a bat in a predetermined order. After the 9th batter has had their turn, the first batter bats again, then the second, and so on. Each time a batter has an opportunity to bat, we call it a plate appearance (PA). At each PA, the other team's _pitcher_ throws the ball and the batter tries to hit it. The PA ends with an binary outcome: the batter either makes an _out_ (failure) and returns to the bench or the batter doesn't (success) and can run around the bases, and potentially score a run (reach all 4 bases). Each team gets nine tries, referred to as _innings_, to score runs and each inning ends after three outs (three failures).\n",
        "\n",
        "Here is a video showing a success: [https://www.youtube.com/watch?v=HL-XjMCPfio](https://www.youtube.com/watch?v=HL-XjMCPfio). And here is one showing a failure: [https://www.youtube.com/watch?v=NeloljCx-1g](https://www.youtube.com/watch?v=NeloljCx-1g). In these videos, we see how luck is involved in the process. When at bat, the batter wants to hit the ball hard. If the batter hits it hard enough, it is a HR, the best possible outcome as the batter gets at least one automatic run. But sometimes, due to chance, the batter hits the ball very hard and a defender catches it, resulting in an out. In contrast, sometimes the batter hits the ball softly, but it lands just in the right place. The fact that there is chance involved hints at why probability models will be involved.\n",
        "\n",
        "Now there are several ways to succeed. Understanding this distinction will be important for our analysis. When the batter hits the ball, the batter wants to pass as many _bases_ as possible. There are four bases with the fourth one called _home plate_. Home plate is where batters start by trying to hit, so the bases form a cycle.\n",
        "\n",
        "\n",
        "(Courtesy of Cburnett^[https://en.wikipedia.org/wiki/User:Cburnett]. CC BY-SA 3.0 license^[https://creativecommons.org/licenses/by-sa/3.0/deed.en].)\n",
        "<!--Source: [Wikipedia Commons](https://commons.wikimedia.org/wiki/File:Baseball_diamond_simplified.svg))-->\n",
        "\n",
        "A batter who _goes around the bases_ and arrives home, scores a run. \n",
        "\n",
        "\n",
        "We are simplifying a bit, but there are five ways a batter can succeed, that is, not make an out: \n",
        "\n",
        "- Bases on balls (BB) - the pitcher fails to throw the ball through a predefined area considered to be hittable (the strikezone), so the batter is permitted to go to first base.\n",
        "- Single - Batter hits the ball and gets to first base.\n",
        "- Double (2B) - Batter hits the ball and gets to second base.\n",
        "- Triple  (3B) - Batter hits the ball and gets to third base.\n",
        "- Home Run (HR) - Batter hits the ball and goes all the way home and scores a run. \n",
        "\n",
        "Here  is an example of a HR:\n",
        "  [https://www.youtube.com/watch?v=xYxSZJ9GZ-w](https://www.youtube.com/watch?v=xYxSZJ9GZ-w).\n",
        "If a batter gets to a base, the batter still has a chance of getting home and scoring a run if the next batter hits successfully. While the batter is _on base_, the batter can also try to steal a base (SB). If a batter runs fast enough, the batter can try to go from one base to the next without the other team tagging the runner. [Here] is an example of a stolen base: [https://www.youtube.com/watch?v=JSE5kfxkzfk](https://www.youtube.com/watch?v=JSE5kfxkzfk).\n",
        "\n",
        "All these events are kept track of during the season and are available to us through the __Lahman__ package. Now we will start discussing how data analysis can help us decide how to use these statistics to evaluate players.\n",
        "\n",
        "### No awards for BB\n",
        " \n",
        "Historically, the _batting average_ has been considered the most important offensive statistic. To define this average, we define a _hit_ (H) and an _at bat_ (AB). Singles, doubles, triples, and home runs are hits. The fifth way to be successful, BB, is not a hit. An AB is the number of times you either get a hit or make an out; BBs are excluded. The batting average is simply H/AB and is considered the main measure of a success rate. Today this success rate ranges from 20% to 38%. We refer to the batting average in thousands so, for example, if your success rate is 28%, we call it _batting 280_.\n",
        "\n",
        "\n",
        "\n",
        "(Picture courtesy of Keith Allison^[https://www.flickr.com/people/27003603@N00]. CC BY-SA 2.0 license^[https://creativecommons.org/licenses/by-sa/2.0].)\n",
        "\n",
        "One of Bill James' first important insights is that the batting average ignores BB, but a BB is a success.  He proposed we use the _on base percentage_ (OBP) instead of batting average. He defined OBP as (H+BB)/(AB+BB) which is simply the proportion of plate appearances that don't result in an out, a very intuitive measure. He noted that a player that gets many more BB than the average player might not be recognized if the batter does not excel in batting average. But is this player not helping produce runs? No award is given to the player with the most BB. However, bad habits are hard to break and baseball did not immediately adopt OBP as an important statistic. In contrast, total stolen bases were considered important and an award^[http://www.baseball-almanac.com/awards/lou_brock_award.shtml] given to the player with the most. But players with high totals of SB also made more outs as they did not always succeed. Does a player with high SB total help produce runs? Can we use data science to determine if it's better to pay for players with high BB or SB? \n",
        "\n",
        "### Base on balls or stolen bases?\n",
        "\n",
        "One of the challenges in this analysis is that it is not obvious how to determine if a player produces runs because so much depends on his teammates. We do keep track of the number of runs scored by a player. However, remember that if a player X bats right before someone who hits many HRs, batter X will score many runs. But these runs don't necessarily happen if we hire player X but not his HR hitting teammate.  However, we can examine team-level statistics. How do teams with many SB compare to teams with few? How about BB? We have data! Let's examine some. \n",
        "\n",
        "Let's start with an obvious one: HRs. Do teams that hit more home runs score more runs? We examine data from 1961 to 2001. The visualization of choice when exploring the relationship between two variables, such as HRs and wins, is a scatterplot:"
      ]
    },
    {
      "cell_type": "code",
      "metadata": {
        "id": "zmMk5bY4bwBL"
      },
      "source": [
        "%%R\n",
        "library(Lahman)\n",
        "\n",
        "Teams %>% filter(yearID %in% 1961:2001) %>%\n",
        "  mutate(HR_per_game = HR / G, R_per_game = R / G) %>%\n",
        "  ggplot(aes(HR_per_game, R_per_game)) + \n",
        "  geom_point(alpha = 0.5)"
      ],
      "execution_count": null,
      "outputs": []
    },
    {
      "cell_type": "markdown",
      "metadata": {
        "id": "9seQU6-WbwBM"
      },
      "source": [
        "The plot shows a strong association: teams with more HRs tend to score more runs. Now let's examine the relationship between stolen bases and runs:"
      ]
    },
    {
      "cell_type": "code",
      "metadata": {
        "id": "Ih-4PPy1bwBM"
      },
      "source": [
        "%%R\n",
        "Teams %>% filter(yearID %in% 1961:2001) %>%\n",
        "  mutate(SB_per_game = SB / G, R_per_game = R / G) %>%\n",
        "  ggplot(aes(SB_per_game, R_per_game)) + \n",
        "  geom_point(alpha = 0.5)"
      ],
      "execution_count": null,
      "outputs": []
    },
    {
      "cell_type": "markdown",
      "metadata": {
        "id": "Bsg41GWvbwBN"
      },
      "source": [
        "Here the relationship is not as clear. Finally, let's examine the relationship between BB and runs:"
      ]
    },
    {
      "cell_type": "code",
      "metadata": {
        "id": "L1uYUjNBbwBN"
      },
      "source": [
        "%%R\n",
        "Teams %>% filter(yearID %in% 1961:2001) %>%\n",
        "  mutate(BB_per_game = BB/G, R_per_game = R/G) %>%\n",
        "  ggplot(aes(BB_per_game, R_per_game)) + \n",
        "  geom_point(alpha = 0.5)"
      ],
      "execution_count": null,
      "outputs": []
    },
    {
      "cell_type": "markdown",
      "metadata": {
        "id": "X4EThUd-bwBN"
      },
      "source": [
        "Here again we see a clear association. But does this mean that increasing a team's BBs **causes** an increase in runs? One of the most important lessons you learn in this book is that **association is not causation.**\n",
        "\n",
        "In fact, it looks like BBs and HRs are also associated:"
      ]
    },
    {
      "cell_type": "code",
      "metadata": {
        "id": "cbvwWgCJbwBO"
      },
      "source": [
        "%%R\n",
        "Teams %>% filter(yearID %in% 1961:2001 ) %>%\n",
        "  mutate(HR_per_game = HR/G, BB_per_game = BB/G) %>%\n",
        "  ggplot(aes(HR_per_game, BB_per_game)) + \n",
        "  geom_point(alpha = 0.5)"
      ],
      "execution_count": null,
      "outputs": []
    },
    {
      "cell_type": "markdown",
      "metadata": {
        "id": "Q3itENsdbwBO"
      },
      "source": [
        "We know that HRs cause runs because, as the name \"home run\" implies, when a player hits a HR they are guaranteed at least one run. Could it be that HRs also cause BB and this makes it appear as if BB cause runs? When this happens we say there is _confounding_, an important concept we will learn more about throughout this chapter.\n",
        "\n",
        "Linear regression will help us parse all this out and quantify the associations. This will then help us determine what players to recruit. Specifically, we will try to predict things like how many more runs will a team score if we increase the number of BBs, but keep the HRs fixed? Regression will help us answer questions like this one.\n",
        "\n",
        "\n",
        "### Regression applied to baseball statistics\n",
        "\n",
        "Can we use regression with these data? First, notice that the HR and Run data appear to be bivariate normal. We save the plot into the object `p` as we will use it again later."
      ]
    },
    {
      "cell_type": "code",
      "metadata": {
        "id": "aveWiQHLbwBO"
      },
      "source": [
        "%%R\n",
        "library(Lahman)\n",
        "p <- Teams %>% filter(yearID %in% 1961:2001 ) %>%\n",
        "  mutate(HR_per_game = HR/G, R_per_game = R/G) %>%\n",
        "  ggplot(aes(HR_per_game, R_per_game)) + \n",
        "  geom_point(alpha = 0.5)\n",
        "p"
      ],
      "execution_count": null,
      "outputs": []
    },
    {
      "cell_type": "markdown",
      "metadata": {
        "id": "BpjCQuUnbwBO"
      },
      "source": [
        "The qq-plots confirm that the normal approximation is useful here:"
      ]
    },
    {
      "cell_type": "code",
      "metadata": {
        "id": "o6ojq-TQbwBP"
      },
      "source": [
        "%%R\n",
        "Teams %>% filter(yearID %in% 1961:2001 ) %>%\n",
        "  mutate(z_HR = round((HR - mean(HR))/sd(HR)), \n",
        "         R_per_game = R/G) %>%\n",
        "  filter(z_HR %in% -2:3) %>%\n",
        "  ggplot() +  \n",
        "  stat_qq(aes(sample=R_per_game)) +\n",
        "  facet_wrap(~z_HR) "
      ],
      "execution_count": null,
      "outputs": []
    },
    {
      "cell_type": "markdown",
      "metadata": {
        "id": "4_VrslI3bwBP"
      },
      "source": [
        "Now we are ready to use linear regression to predict the number of runs a team will score if we know how many home runs the team hits. All we need to do is compute the five summary statistics:"
      ]
    },
    {
      "cell_type": "code",
      "metadata": {
        "id": "kz0-fM5PbwBP"
      },
      "source": [
        "%%R\n",
        "summary_stats <- Teams %>% \n",
        "  filter(yearID %in% 1961:2001 ) %>%\n",
        "  mutate(HR_per_game = HR/G, R_per_game = R/G) %>%\n",
        "  summarize(avg_HR = mean(HR_per_game),\n",
        "            s_HR = sd(HR_per_game),\n",
        "            avg_R = mean(R_per_game),\n",
        "            s_R = sd(R_per_game),\n",
        "            r = cor(HR_per_game, R_per_game))\n",
        "summary_stats"
      ],
      "execution_count": null,
      "outputs": []
    },
    {
      "cell_type": "markdown",
      "metadata": {
        "id": "qcng3PcSbwBP"
      },
      "source": [
        "and use the formulas given above to create the regression lines:"
      ]
    },
    {
      "cell_type": "code",
      "metadata": {
        "id": "CsS0O3U2bwBP"
      },
      "source": [
        "%%R\n",
        "reg_line <- summary_stats %>% summarize(slope = r*s_R/s_HR,\n",
        "                            intercept = avg_R - slope*avg_HR)\n",
        "\n",
        "p + geom_abline(intercept = reg_line$intercept, slope = reg_line$slope)"
      ],
      "execution_count": null,
      "outputs": []
    },
    {
      "cell_type": "markdown",
      "metadata": {
        "id": "jw6TJmpVbwBQ"
      },
      "source": [
        "Soon we will learn R functions, such as `lm`, that make fitting regression lines much easier. Another example is the __ggplot2__ function `geom_smooth` which computes and adds a regression line to plot along with confidence intervals, which we also learn about later. We use the argument `method = \"lm\"` which stands for _linear model_, the title of an upcoming section. So we can simplify the code above like this:"
      ]
    },
    {
      "cell_type": "code",
      "metadata": {
        "id": "dz576oEObwBQ"
      },
      "source": [
        "%%R\n",
        "p + geom_smooth(method = \"lm\")"
      ],
      "execution_count": null,
      "outputs": []
    }
  ]
}